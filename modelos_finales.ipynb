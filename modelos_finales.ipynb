{
  "nbformat": 4,
  "nbformat_minor": 0,
  "metadata": {
    "colab": {
      "name": "modelos finales.ipynb",
      "provenance": [],
      "collapsed_sections": [],
      "include_colab_link": true
    },
    "kernelspec": {
      "name": "python3",
      "display_name": "Python 3"
    },
    "language_info": {
      "name": "python"
    }
  },
  "cells": [
    {
      "cell_type": "markdown",
      "metadata": {
        "id": "view-in-github",
        "colab_type": "text"
      },
      "source": [
        "<a href=\"https://colab.research.google.com/github/angyf/Proyecto_Final/blob/main/modelos_finales.ipynb\" target=\"_parent\"><img src=\"https://colab.research.google.com/assets/colab-badge.svg\" alt=\"Open In Colab\"/></a>"
      ]
    },
    {
      "cell_type": "markdown",
      "metadata": {
        "id": "yDeIh9sai5E0"
      },
      "source": [
        "# Importar librerias y funciones"
      ]
    },
    {
      "cell_type": "code",
      "metadata": {
        "id": "p8eMwJ8URdQ8",
        "colab": {
          "base_uri": "https://localhost:8080/"
        },
        "outputId": "eeb3b222-bb2f-424d-c20d-14e483ebb5d2"
      },
      "source": [
        "# importamos librerias que nos seran de utilidad \n",
        "! pip install plotly\n",
        "!pip install PyDrive\n",
        "\n",
        "import pandas as pd\n",
        "import numpy as np\n",
        "import seaborn as sns\n",
        "import plotly.express as px\n",
        "import matplotlib.pyplot as plt\n",
        "\n",
        "from sklearn.model_selection import train_test_split\n",
        "from sklearn.compose import ColumnTransformer\n",
        "from sklearn.pipeline import Pipeline\n",
        "from sklearn.impute import SimpleImputer\n",
        "from sklearn.preprocessing import OneHotEncoder\n",
        "from keras.models import Sequential\n",
        "from keras.layers import Dense\n",
        "from sklearn.metrics import mean_absolute_error\n",
        "from sklearn.metrics import confusion_matrix\n",
        "from sklearn.linear_model import LogisticRegression\n",
        "from keras.models import model_from_json\n",
        "from sklearn import tree as treeClassifier\n",
        "from sklearn.tree import DecisionTreeRegressor\n",
        "from sklearn.ensemble import RandomForestRegressor\n",
        "from sklearn.metrics import accuracy_score\n",
        "from pydrive.auth import GoogleAuth\n",
        "from pydrive.drive import GoogleDrive\n",
        "from google.colab import auth\n",
        "from oauth2client.client import GoogleCredentials"
      ],
      "execution_count": 1,
      "outputs": [
        {
          "output_type": "stream",
          "text": [
            "Requirement already satisfied: plotly in /usr/local/lib/python3.7/dist-packages (4.4.1)\n",
            "Requirement already satisfied: retrying>=1.3.3 in /usr/local/lib/python3.7/dist-packages (from plotly) (1.3.3)\n",
            "Requirement already satisfied: six in /usr/local/lib/python3.7/dist-packages (from plotly) (1.15.0)\n",
            "Requirement already satisfied: PyDrive in /usr/local/lib/python3.7/dist-packages (1.3.1)\n",
            "Requirement already satisfied: oauth2client>=4.0.0 in /usr/local/lib/python3.7/dist-packages (from PyDrive) (4.1.3)\n",
            "Requirement already satisfied: PyYAML>=3.0 in /usr/local/lib/python3.7/dist-packages (from PyDrive) (3.13)\n",
            "Requirement already satisfied: google-api-python-client>=1.2 in /usr/local/lib/python3.7/dist-packages (from PyDrive) (1.12.8)\n",
            "Requirement already satisfied: httplib2>=0.9.1 in /usr/local/lib/python3.7/dist-packages (from oauth2client>=4.0.0->PyDrive) (0.17.4)\n",
            "Requirement already satisfied: rsa>=3.1.4 in /usr/local/lib/python3.7/dist-packages (from oauth2client>=4.0.0->PyDrive) (4.7.2)\n",
            "Requirement already satisfied: pyasn1>=0.1.7 in /usr/local/lib/python3.7/dist-packages (from oauth2client>=4.0.0->PyDrive) (0.4.8)\n",
            "Requirement already satisfied: six>=1.6.1 in /usr/local/lib/python3.7/dist-packages (from oauth2client>=4.0.0->PyDrive) (1.15.0)\n",
            "Requirement already satisfied: pyasn1-modules>=0.0.5 in /usr/local/lib/python3.7/dist-packages (from oauth2client>=4.0.0->PyDrive) (0.2.8)\n",
            "Requirement already satisfied: google-auth-httplib2>=0.0.3 in /usr/local/lib/python3.7/dist-packages (from google-api-python-client>=1.2->PyDrive) (0.0.4)\n",
            "Requirement already satisfied: google-api-core<2dev,>=1.21.0 in /usr/local/lib/python3.7/dist-packages (from google-api-python-client>=1.2->PyDrive) (1.26.3)\n",
            "Requirement already satisfied: uritemplate<4dev,>=3.0.0 in /usr/local/lib/python3.7/dist-packages (from google-api-python-client>=1.2->PyDrive) (3.0.1)\n",
            "Requirement already satisfied: google-auth>=1.16.0 in /usr/local/lib/python3.7/dist-packages (from google-api-python-client>=1.2->PyDrive) (1.30.0)\n",
            "Requirement already satisfied: packaging>=14.3 in /usr/local/lib/python3.7/dist-packages (from google-api-core<2dev,>=1.21.0->google-api-python-client>=1.2->PyDrive) (20.9)\n",
            "Requirement already satisfied: pytz in /usr/local/lib/python3.7/dist-packages (from google-api-core<2dev,>=1.21.0->google-api-python-client>=1.2->PyDrive) (2018.9)\n",
            "Requirement already satisfied: requests<3.0.0dev,>=2.18.0 in /usr/local/lib/python3.7/dist-packages (from google-api-core<2dev,>=1.21.0->google-api-python-client>=1.2->PyDrive) (2.23.0)\n",
            "Requirement already satisfied: protobuf>=3.12.0 in /usr/local/lib/python3.7/dist-packages (from google-api-core<2dev,>=1.21.0->google-api-python-client>=1.2->PyDrive) (3.12.4)\n",
            "Requirement already satisfied: setuptools>=40.3.0 in /usr/local/lib/python3.7/dist-packages (from google-api-core<2dev,>=1.21.0->google-api-python-client>=1.2->PyDrive) (57.0.0)\n",
            "Requirement already satisfied: googleapis-common-protos<2.0dev,>=1.6.0 in /usr/local/lib/python3.7/dist-packages (from google-api-core<2dev,>=1.21.0->google-api-python-client>=1.2->PyDrive) (1.53.0)\n",
            "Requirement already satisfied: cachetools<5.0,>=2.0.0 in /usr/local/lib/python3.7/dist-packages (from google-auth>=1.16.0->google-api-python-client>=1.2->PyDrive) (4.2.2)\n",
            "Requirement already satisfied: pyparsing>=2.0.2 in /usr/local/lib/python3.7/dist-packages (from packaging>=14.3->google-api-core<2dev,>=1.21.0->google-api-python-client>=1.2->PyDrive) (2.4.7)\n",
            "Requirement already satisfied: urllib3!=1.25.0,!=1.25.1,<1.26,>=1.21.1 in /usr/local/lib/python3.7/dist-packages (from requests<3.0.0dev,>=2.18.0->google-api-core<2dev,>=1.21.0->google-api-python-client>=1.2->PyDrive) (1.24.3)\n",
            "Requirement already satisfied: chardet<4,>=3.0.2 in /usr/local/lib/python3.7/dist-packages (from requests<3.0.0dev,>=2.18.0->google-api-core<2dev,>=1.21.0->google-api-python-client>=1.2->PyDrive) (3.0.4)\n",
            "Requirement already satisfied: certifi>=2017.4.17 in /usr/local/lib/python3.7/dist-packages (from requests<3.0.0dev,>=2.18.0->google-api-core<2dev,>=1.21.0->google-api-python-client>=1.2->PyDrive) (2020.12.5)\n",
            "Requirement already satisfied: idna<3,>=2.5 in /usr/local/lib/python3.7/dist-packages (from requests<3.0.0dev,>=2.18.0->google-api-core<2dev,>=1.21.0->google-api-python-client>=1.2->PyDrive) (2.10)\n"
          ],
          "name": "stdout"
        }
      ]
    },
    {
      "cell_type": "code",
      "metadata": {
        "id": "XnQixcAGRhs-"
      },
      "source": [
        "# Funciones para obtener eficiencia de nuestros modelos\n",
        "def calcularAccuracy(TP, TN, FP, FN):\n",
        "    accuracy = (TP + TN) / (TP + TN + FP + FN)\n",
        "    accuracy = accuracy * 100\n",
        "    return accuracy\n",
        "def calcularSensibilidad(TP, TN, FP, FN):\n",
        "    sensibilidad = TP / (TP + FN)\n",
        "    sensibilidad = sensibilidad * 100\n",
        "    return sensibilidad\n",
        "def calcularEspecificidad(TP, TN, FP, FN):\n",
        "    especificidad = TN / (TN + FP)\n",
        "    especificidad = especificidad * 100\n",
        "    return especificidad"
      ],
      "execution_count": 2,
      "outputs": []
    },
    {
      "cell_type": "markdown",
      "metadata": {
        "id": "As2ZyBfsjDyI"
      },
      "source": [
        "# Datos"
      ]
    },
    {
      "cell_type": "code",
      "metadata": {
        "id": "9ycN8gFpRwk_"
      },
      "source": [
        "#Cargamos nuestro dataset\n",
        "\n",
        "url='https://drive.google.com/file/d/1lLgbJDE7Ybb4x_4WpVcmdwxdvVJv_9A7/view?usp=sharing'\n",
        "path = 'https://drive.google.com/uc?export=download&id='+url.split('/')[-2]\n",
        "df = pd.read_csv(path,index_col=0)\n",
        "\n",
        "# separamos nuestros datos en la variable a predecir y y las variables independientes que resultaron significativas para los modelos a crear\n",
        "y=df.enfermedad_cardiaca\n",
        "X=df.drop(['enfermedad_cardiaca','imc','sexo','presion_diastolica'],axis=1)\n",
        "\n",
        "# separar en datos de prueba y entrenamiento\n",
        "X_train_full,X_valid_full, y_train, y_valid=train_test_split(X,y,test_size=0.3,random_state=15)\n",
        "\n",
        "# Seleccionar variables numericas \n",
        "numerical_cols=[name for name in X_train_full.columns if X_train_full[name].dtype in [\"int64\",\"float64\"]]\n",
        "\n",
        "# seleccionar las columnas que queremos\n",
        "X_train =X_train_full[numerical_cols].copy()\n",
        "X_valid=X_valid_full[numerical_cols].copy()\n"
      ],
      "execution_count": 3,
      "outputs": []
    },
    {
      "cell_type": "code",
      "metadata": {
        "id": "TeRpnLBGbFwM"
      },
      "source": [
        "#Preprocesar las variables numericas\n",
        "numerical_transformer= SimpleImputer(strategy=\"most_frequent\")\n",
        "\n",
        "#Juntar las variables preprocesadas\n",
        "preprocessor= ColumnTransformer(\n",
        "    transformers=[(\"num\",numerical_transformer,numerical_cols)])\n"
      ],
      "execution_count": 4,
      "outputs": []
    },
    {
      "cell_type": "markdown",
      "metadata": {
        "id": "IV26ld-4r_4L"
      },
      "source": [
        "Lo que se busca a continuación es crear distintos modelos con el fin de obtener el que realice una mejor clasificación sobre si la persona desarrollara o no una enfermedad cardiaca de acuerdo con ciertas caracteristicas.\n",
        "\n",
        "Se realizo la creación de 4 modelos,:\n",
        "\n",
        "* Red neuronal\n",
        "\n",
        "* Regresión logistica\n",
        "\n",
        "* Árboles de decisión\n",
        "\n",
        "* Bosque aleatorios"
      ]
    },
    {
      "cell_type": "markdown",
      "metadata": {
        "id": "B-dow-5XgEEk"
      },
      "source": [
        "# REDES NEURONALES"
      ]
    },
    {
      "cell_type": "code",
      "metadata": {
        "id": "paMyxy7RgEYb",
        "colab": {
          "base_uri": "https://localhost:8080/"
        },
        "outputId": "120c0813-5114-451a-a20c-38fc594973e3"
      },
      "source": [
        "# Definamos nuestra red neuronal con Keras\n",
        "red_neuronal = Sequential()\n",
        "#Agregamos capas, imput_dim es el numero de inputs que recibe cada capa, solo se\n",
        "#le agrega a la primera pues conocemos el numero de variables con las que iniciamos \n",
        "red_neuronal.add(Dense(27, input_dim=9, activation=\"relu\"))\n",
        "red_neuronal.add(Dense(16, activation=\"relu\"))\n",
        "red_neuronal.add(Dense(8, activation=\"relu\"))\n",
        "red_neuronal.add(Dense(10, activation=\"relu\"))\n",
        "red_neuronal.add(Dense(15, activation=\"relu\"))\n",
        "red_neuronal.add(Dense(18, activation=\"relu\"))\n",
        "red_neuronal.add(Dense(5, activation=\"relu\"))\n",
        "red_neuronal.add(Dense(7, activation=\"relu\"))\n",
        "red_neuronal.add(Dense(2, activation=\"relu\"))\n",
        "red_neuronal.add(Dense(5, activation=\"relu\"))\n",
        "#La ultima función de activación es sigmoide debido a que el resultado esperado es\n",
        "#una variable binaria\n",
        "red_neuronal.add(Dense(1, activation=\"sigmoid\"))\n",
        "# Compilar\n",
        "red_neuronal.compile(loss=\"binary_crossentropy\", optimizer=\"adam\", metrics=[\"accuracy\"])\n",
        "#Entrenamos el modelo\n",
        "red_neuronal.fit(X_train,y_train, epochs=130, batch_size= 28)"
      ],
      "execution_count": 6,
      "outputs": [
        {
          "output_type": "stream",
          "text": [
            "1527/1527 [==============================] - 4s 2ms/step - loss: 0.5582 - accuracy: 0.7249\n",
            "Epoch 107/130\n",
            "1527/1527 [==============================] - 4s 2ms/step - loss: 0.5545 - accuracy: 0.7273\n",
            "Epoch 108/130\n",
            "1527/1527 [==============================] - 4s 2ms/step - loss: 0.5560 - accuracy: 0.7246\n",
            "Epoch 109/130\n",
            "1527/1527 [==============================] - 3s 2ms/step - loss: 0.5575 - accuracy: 0.7202\n",
            "Epoch 110/130\n",
            "1527/1527 [==============================] - 4s 2ms/step - loss: 0.5548 - accuracy: 0.7261\n",
            "Epoch 111/130\n",
            "1527/1527 [==============================] - 3s 2ms/step - loss: 0.5547 - accuracy: 0.7230\n",
            "Epoch 112/130\n",
            "1527/1527 [==============================] - 3s 2ms/step - loss: 0.5579 - accuracy: 0.7221\n",
            "Epoch 113/130\n",
            "1527/1527 [==============================] - 4s 2ms/step - loss: 0.5591 - accuracy: 0.7212\n",
            "Epoch 114/130\n",
            "1527/1527 [==============================] - 4s 2ms/step - loss: 0.5575 - accuracy: 0.7238\n",
            "Epoch 115/130\n",
            "1527/1527 [==============================] - 4s 2ms/step - loss: 0.5607 - accuracy: 0.7166\n",
            "Epoch 116/130\n",
            "1527/1527 [==============================] - 4s 2ms/step - loss: 0.5584 - accuracy: 0.7233\n",
            "Epoch 117/130\n",
            "1527/1527 [==============================] - 4s 2ms/step - loss: 0.5558 - accuracy: 0.7243\n",
            "Epoch 118/130\n",
            "1527/1527 [==============================] - 4s 2ms/step - loss: 0.5534 - accuracy: 0.7268\n",
            "Epoch 119/130\n",
            "1527/1527 [==============================] - 4s 2ms/step - loss: 0.5537 - accuracy: 0.7255\n",
            "Epoch 120/130\n",
            "1527/1527 [==============================] - 4s 2ms/step - loss: 0.5582 - accuracy: 0.7197\n",
            "Epoch 121/130\n",
            "1527/1527 [==============================] - 4s 2ms/step - loss: 0.5546 - accuracy: 0.7258\n",
            "Epoch 122/130\n",
            "1527/1527 [==============================] - 4s 3ms/step - loss: 0.5578 - accuracy: 0.7198\n",
            "Epoch 123/130\n",
            "1527/1527 [==============================] - 4s 2ms/step - loss: 0.5569 - accuracy: 0.7227\n",
            "Epoch 124/130\n",
            "1527/1527 [==============================] - 4s 2ms/step - loss: 0.5592 - accuracy: 0.7206\n",
            "Epoch 125/130\n",
            "1527/1527 [==============================] - 4s 2ms/step - loss: 0.5591 - accuracy: 0.7211\n",
            "Epoch 126/130\n",
            "1527/1527 [==============================] - 3s 2ms/step - loss: 0.5573 - accuracy: 0.7211\n",
            "Epoch 127/130\n",
            "1527/1527 [==============================] - 4s 2ms/step - loss: 0.5582 - accuracy: 0.7234\n",
            "Epoch 128/130\n",
            "1527/1527 [==============================] - 3s 2ms/step - loss: 0.5554 - accuracy: 0.7255\n",
            "Epoch 129/130\n",
            "1527/1527 [==============================] - 3s 2ms/step - loss: 0.5542 - accuracy: 0.7232\n",
            "Epoch 130/130\n",
            "1527/1527 [==============================] - 3s 2ms/step - loss: 0.5546 - accuracy: 0.7253\n"
          ],
          "name": "stdout"
        },
        {
          "output_type": "execute_result",
          "data": {
            "text/plain": [
              "<keras.callbacks.History at 0x7fbd94e343d0>"
            ]
          },
          "metadata": {
            "tags": []
          },
          "execution_count": 6
        }
      ]
    },
    {
      "cell_type": "code",
      "metadata": {
        "id": "sFZcBeWmCo8A",
        "colab": {
          "base_uri": "https://localhost:8080/"
        },
        "outputId": "f0b821c9-cfc0-4fc7-8fc1-01a8f8ac26b2"
      },
      "source": [
        "#prediccion sobre la red\n",
        "y_predict = red_neuronal.predict_classes(X_valid)\n",
        "\n",
        "# Métricas del modelo\n",
        "resultado = confusion_matrix(y_valid, y_predict)\n",
        "(TN, FP, FN, TP) = resultado.ravel()\n",
        " \n",
        "acc = calcularAccuracy(TP, TN, FP, FN)\n",
        "sen = calcularSensibilidad(TP, TN, FP, FN)\n",
        "spec = calcularEspecificidad(TP, TN, FP, FN)\n",
        "print(\"Precision:\"+str(acc)+\"%\")\n",
        "print(\"Sensibilidad:\"+str(sen)+\"%\")\n",
        "print(\"Especificidad:\"+str(spec)+\"%\")\n",
        "\n",
        "# Guardar el modelo entrenado\n",
        "model_json = red_neuronal.to_json()\n",
        "with open(\"model.json\", \"w\") as json_file:\n",
        "    json_file.write(model_json)\n",
        "#serializar los pesos a HDF5\n",
        "red_neuronal.save_weights(\"model.h5\")"
      ],
      "execution_count": 24,
      "outputs": [
        {
          "output_type": "stream",
          "text": [
            "/usr/local/lib/python3.7/dist-packages/keras/engine/sequential.py:450: UserWarning:\n",
            "\n",
            "`model.predict_classes()` is deprecated and will be removed after 2021-01-01. Please use instead:* `np.argmax(model.predict(x), axis=-1)`,   if your model does multi-class classification   (e.g. if it uses a `softmax` last-layer activation).* `(model.predict(x) > 0.5).astype(\"int32\")`,   if your model does binary classification   (e.g. if it uses a `sigmoid` last-layer activation).\n",
            "\n"
          ],
          "name": "stderr"
        },
        {
          "output_type": "stream",
          "text": [
            "Precision:72.26133944653677%\n",
            "Sensibilidad:73.31989247311827%\n",
            "Especificidad:71.25519003513254%\n"
          ],
          "name": "stdout"
        }
      ]
    },
    {
      "cell_type": "markdown",
      "metadata": {
        "id": "g89JDRM0cZJM"
      },
      "source": [
        "## BITACORAS DE REDES NEURONALES\n",
        "\n",
        "En este caso se realizo el entrenamiento de distintas redes neuronales con el fin de lograr una mejor predicción, por ello se hizo un registro de bitacoras\n",
        "\n",
        "**Experimento 0**\n",
        "- Capas 9\n",
        "- Neuronas por capa 10,15,8,4,9,11,5,2,1\n",
        "- Epochs 68\n",
        "- Batch 45\n",
        "- Precision 49.97%\n",
        "- Sensibilidad 100%\n",
        "- Especificidad 0%\n",
        "\n",
        "**Experimento 1**\n",
        "- Capas  6\n",
        "- Neuronas por capa 10,15,8,13,5,1\n",
        "- Epochs 130\n",
        "- Batch 28\n",
        "- Precision 72.73%\n",
        "- Sensibilidad 70.22%\n",
        "- Especificidad 75.24%\n",
        "\n",
        "\n",
        "**Experimento 2**\n",
        "- Capas 4\n",
        "- Neuronas por capa 10,15,8,1\n",
        "- Epochs 130\n",
        "- Batch 28\n",
        "- Precision 72.67%\n",
        "- Sensibilidad 65.38%\n",
        "- Especificidad 79.96%\n",
        "\n",
        "\n",
        "**Experimento 3**\n",
        "- Capas  9\n",
        "- Neuronas por capa 10,15,8,4,9,11,5,2,1\n",
        "- Epochs 150\n",
        "- Batch 15\n",
        "- Precision 49.97%\n",
        "- Sensibilidad 100%\n",
        "- Especificidad 0%\n",
        "\n",
        "\n",
        "**Experimento 4**\n",
        "- Capas 6\n",
        "- Neuronas por capa 10,15,8,13,5,1\n",
        "- Epochs 175\n",
        "- Batch 28\n",
        "- Precision 72.78%\n",
        "- Sensibilidad 66.82%\n",
        "- Especificidad 78.74%\n",
        "\n",
        "\n",
        "**Experimento 5**\n",
        "- Capas 8\n",
        "- Neuronas por capa 10,15,23,14,7,11,4,1\n",
        "- Epochs 130\n",
        "- Batch 28\n",
        "- Precision 72.82%\n",
        "- Sensibilidad 71.44%\n",
        "- Especificidad 74.20%\n",
        "\n",
        "\n",
        "**Experimento 6**\n",
        "- Capas 8\n",
        "- Neuronas por capa 23,11,5,7,12,4,8,1\n",
        "- Epochs 250\n",
        "- Batch 37\n",
        "- Precision 72.82%\n",
        "- Sensibilidad 65.60%\n",
        "- Especificidad 80.04%\n",
        "\n",
        "\n",
        "**Experimento 7**\n",
        "- Capas 10\n",
        "- Neuronas por capa 16,7,21,13,9,4,8,3,6,1\n",
        "- Epochs 175\n",
        "- Batch 28\n",
        "- Precision 49.97%\n",
        "- Sensibilidad 100%\n",
        "- Especificidad 0%\n",
        "\n",
        "\n",
        "**Experimento 8**\n",
        "- Capas 11\n",
        "- Neuronas por capa 27,16,8,10,15,18,5,7,2,5,1\n",
        "- Epochs 130\n",
        "- Batch 28\n",
        "- Precision 72.23%\n",
        "- Sensibilidad 76.31%\n",
        "- Especificidad 68.16%\n",
        "\n",
        "\n",
        "**Experimento 9**\n",
        "- Capas 11\n",
        "- Neuronas por capa 27,16,8,10,15,18,5,7,2,5,1\n",
        "- Epochs 250\n",
        "- Batch 37\n",
        "- Precision 72.66%\n",
        "- Sensibilidad 62.76%\n",
        "- Especificidad 82.55%\n",
        "\n",
        "\n",
        "**Experimento 10**\n",
        "- Capas 11\n",
        "- Neuronas por capa 27,16,8,10,15,18,5,7,2,5,1\n",
        "- Epochs 175\n",
        "- Batch 28\n",
        "- Precision 72.97%\n",
        "- Sensibilidad 69.19\n",
        "- Especificidad 76.74\n",
        "\n",
        "\n",
        "**Experimento 11**\n",
        "- Capas 11\n",
        "- Neuronas por capa  27,16,8,10,15,18,5,7,2,5,1\n",
        "- Epochs 65\n",
        "- Batch 28\n",
        "- Precision 72.33%\n",
        "- Sensibilidad 75.79%\n",
        "- Especificidad 68.88%\n",
        "\n",
        "\n",
        "**Experimento 12**\n",
        "- Capas 15\n",
        "- Neuronas por capa 29,16,8,10,15,18,12,7,13,8,5,3,7,5,1\n",
        "- Epochs 150\n",
        "- Batch 28\n",
        "- Precision 72.92%\n",
        "- Sensibilidad  67.07%\n",
        "- Especificidad 78.77%\n",
        "\n",
        "\n",
        "**Experimento 13** \n",
        "- Capas 8\n",
        "- Neuronas por capa 12,16,8,4,13,7,5,1\n",
        "- Epochs 120\n",
        "- Batch 37\n",
        "- Precision 72.28%\n",
        "- Sensibilidad 62.06%\n",
        "- Especificidad 82.47%\n",
        "\n",
        "\n",
        "**Experimento 14**\n",
        "- Capas 8\n",
        "- Neuronas por capa 27,16,8,10,18,7,5,1\n",
        "- Epochs 125\n",
        "- Batch 35\n",
        "- Precision 71.60\n",
        "- Sensibilidad 57.7\n",
        "- Especificidad 85.5%\n",
        "\n",
        "\n",
        "**Experimento 15**\n",
        "- Capas 11\n",
        "- Neuronas por capa 29,16,8,10,15,17,12,5,13,4,1\n",
        "- Epochs 150\n",
        "- Batch 28\n",
        "- Precision 73.11%\n",
        "- Sensibilidad 68.81\n",
        "- Especificidad 77.41%\n",
        "\n",
        "\n",
        "**Experimento 16** no lo descargue\n",
        "- Capas 11\n",
        "- Neuronas por capa 27,16,8,10,15,18,5,7,2,5,1\n",
        "- Epochs 175\n",
        "- Batch 35\n",
        "- Precision 72.80\n",
        "- Sensibilidad 66.08\n",
        "- Especificidad 79.52\n",
        "\n",
        "\n",
        "**Experimento 17**\n",
        "- Capas 11\n",
        "- Neuronas por capa 27,16,8,10,15,18,5,7,2,5,1\n",
        "- Epochs 65\n",
        "- Batch 28\n",
        "- Precision  71.41\n",
        "- Sensibilidad 78.83\n",
        "- Especificidad 63,99\n",
        "\n",
        "\n",
        "**Experimento 18**\n",
        "- Capas 11\n",
        "- Neuronas por capa 27,16,8,10,15,18,5,7,2,5,1\n",
        "- Epochs 35\n",
        "- Batch 28\n",
        "- Precision 72.65\n",
        "- Sensibilidad 68.11\n",
        "- Especificidad 77.18\n",
        "\n",
        "\n",
        "Finalmente se eligio el modelo 8 que cuenta con métricas que se consideraron adecuadas para el tipo de problema que se esta trabajando, por lo que se realiza su carga para poder replicar su precisión, especificidad  y sensibilidad."
      ]
    },
    {
      "cell_type": "code",
      "metadata": {
        "id": "41WGRx8gvzBY"
      },
      "source": [
        "# Damos los permisos para almacenar los archivos de manera temporal \n",
        "auth.authenticate_user()\n",
        "gauth = GoogleAuth()\n",
        "gauth.credentials = GoogleCredentials.get_application_default()\n",
        "drive = GoogleDrive(gauth)\n",
        "\n",
        "# importamos los archivos de Drive del modelo entrenado previamente elegido.\n",
        "downloaded = drive.CreateFile({'id':\"1DHz41rg66pivlX9flAjFemMNy0-bIjW7\"})   # replace the id with id of file you want to access\n",
        "downloaded.GetContentFile('model.json') \n",
        "downloaded = drive.CreateFile({'id':\"17mYXO8gqTkQFIZg8SKfVCh2_0rtq5HzY\"})   # replace the id with id of file you want to access\n",
        "downloaded.GetContentFile('model.h5') \n"
      ],
      "execution_count": null,
      "outputs": []
    },
    {
      "cell_type": "code",
      "metadata": {
        "id": "odmc1jdMnefF",
        "colab": {
          "base_uri": "https://localhost:8080/"
        },
        "outputId": "ab387e84-a86e-4a05-8e4a-752a45e84003"
      },
      "source": [
        "# cargar la información para el modelo elegido\n",
        "json_file = open('model.json', 'r')\n",
        "loaded_model_json = json_file.read()\n",
        "json_file.close()\n",
        "loaded_model = model_from_json(loaded_model_json)\n",
        "# cargar pesos al nuevo modelo\n",
        "loaded_model.load_weights(\"model.h5\")\n",
        "print(\"Modelo cargado.\")\n",
        " \n",
        "# Compilar modelo cargado y listo para usar.\n",
        "loaded_model.compile(loss=\"binary_crossentropy\", optimizer=\"adam\", metrics=[\"accuracy\"])"
      ],
      "execution_count": 25,
      "outputs": [
        {
          "output_type": "stream",
          "text": [
            "Modelo cargado.\n"
          ],
          "name": "stdout"
        }
      ]
    },
    {
      "cell_type": "code",
      "metadata": {
        "id": "fE1fVzDGfaHU",
        "colab": {
          "base_uri": "https://localhost:8080/"
        },
        "outputId": "77cc580e-b899-4383-85ea-2837c34af63a"
      },
      "source": [
        "#prediccion del modelo cargado\n",
        "y_predict = loaded_model.predict_classes(X_valid)\n",
        "\n",
        "# Resultados (métricas de l modelo)\n",
        "resultado = confusion_matrix(y_valid, y_predict)\n",
        "(TN, FP, FN, TP) = resultado.ravel()\n",
        " \n",
        "acc_red = calcularAccuracy(TP, TN, FP, FN)\n",
        "sen_red = calcularSensibilidad(TP, TN, FP, FN)\n",
        "spec_red = calcularEspecificidad(TP, TN, FP, FN)\n",
        "print(\"Precision:\"+str(acc_red)+\"%\")\n",
        "print(\"Sensibilidad:\"+str(sen_red)+\"%\")\n",
        "print(\"Especificidad:\"+str(spec_red)+\"%\")"
      ],
      "execution_count": 26,
      "outputs": [
        {
          "output_type": "stream",
          "text": [
            "/usr/local/lib/python3.7/dist-packages/keras/engine/sequential.py:450: UserWarning:\n",
            "\n",
            "`model.predict_classes()` is deprecated and will be removed after 2021-01-01. Please use instead:* `np.argmax(model.predict(x), axis=-1)`,   if your model does multi-class classification   (e.g. if it uses a `softmax` last-layer activation).* `(model.predict(x) > 0.5).astype(\"int32\")`,   if your model does binary classification   (e.g. if it uses a `sigmoid` last-layer activation).\n",
            "\n"
          ],
          "name": "stderr"
        },
        {
          "output_type": "stream",
          "text": [
            "Precision:72.26133944653677%\n",
            "Sensibilidad:73.31989247311827%\n",
            "Especificidad:71.25519003513254%\n"
          ],
          "name": "stdout"
        }
      ]
    },
    {
      "cell_type": "markdown",
      "metadata": {
        "id": "j86jhx2wjTX2"
      },
      "source": [
        "# Regresión logistica"
      ]
    },
    {
      "cell_type": "code",
      "metadata": {
        "id": "g-a8PQ7DeFVv"
      },
      "source": [
        "# definimos el modelo\n",
        "reg= LogisticRegression(max_iter=45000,random_state=23)\n",
        "#conjuntar los datos preprocesados\n",
        "pipeReg=Pipeline(steps=[(\"preprocessor\",preprocessor),\n",
        "                            (\"model\",reg)])\n",
        "#Embonar el training\n",
        "pipeReg.fit(X_train,y_train)\n",
        "# Predicción\n",
        "preds= pipeReg.predict(X_valid)"
      ],
      "execution_count": 27,
      "outputs": []
    },
    {
      "cell_type": "code",
      "metadata": {
        "id": "4FxO5YW1M4jf",
        "colab": {
          "base_uri": "https://localhost:8080/"
        },
        "outputId": "dd985e54-8d79-409c-f572-c1ff4937e31b"
      },
      "source": [
        "\n",
        "# Resultados (métricas de l modelo)\n",
        "resultado = confusion_matrix(y_valid, preds)\n",
        "(TN, FP, FN, TP) = resultado.ravel()\n",
        " \n",
        "acc_rl = calcularAccuracy(TP, TN, FP, FN)\n",
        "sen_rl = calcularSensibilidad(TP, TN, FP, FN)\n",
        "spec_rl = calcularEspecificidad(TP, TN, FP, FN)\n",
        "print(\"Precision:\"+str(acc_rl)+\"%\")\n",
        "print(\"Sensibilidad:\"+str(sen_rl)+\"%\")\n",
        "print(\"Especificidad:\"+str(spec_rl)+\"%\")"
      ],
      "execution_count": 28,
      "outputs": [
        {
          "output_type": "stream",
          "text": [
            "Precision:71.87926423230174%\n",
            "Sensibilidad:64.14650537634408%\n",
            "Especificidad:79.22921324390504%\n"
          ],
          "name": "stdout"
        }
      ]
    },
    {
      "cell_type": "markdown",
      "metadata": {
        "id": "G6_VTXWqOiWF"
      },
      "source": [
        "# Árboles de Decisión"
      ]
    },
    {
      "cell_type": "code",
      "metadata": {
        "id": "dxe2-E1jO9xn"
      },
      "source": [
        "arbol = treeClassifier.DecisionTreeClassifier(random_state=83)\n",
        "arbol = arbol.fit(X_train, y_train)\n",
        "\n",
        "#plt.figure(figsize = (10,10), dpi = 300)\n",
        "#treeClassifier.plot_tree(arbol,filled = True);\n",
        "#plt.show()"
      ],
      "execution_count": 29,
      "outputs": []
    },
    {
      "cell_type": "code",
      "metadata": {
        "id": "LtG67qAMRgEk",
        "colab": {
          "base_uri": "https://localhost:8080/"
        },
        "outputId": "402397e1-2a9c-4fee-86ea-b2647dc5b660"
      },
      "source": [
        "y_pred = arbol.predict(X_valid)\n",
        "\n",
        "enfermedad = np.array(y_valid)\n",
        "predictions = np.array(y_pred)\n",
        "confusion_matrix(enfermedad, predictions)"
      ],
      "execution_count": 30,
      "outputs": [
        {
          "output_type": "execute_result",
          "data": {
            "text/plain": [
              "array([[6202, 3191],\n",
              "       [3539, 5389]])"
            ]
          },
          "metadata": {
            "tags": []
          },
          "execution_count": 30
        }
      ]
    },
    {
      "cell_type": "code",
      "metadata": {
        "id": "oaflsQ5tSECI",
        "colab": {
          "base_uri": "https://localhost:8080/"
        },
        "outputId": "3f327977-fc93-4aef-8e73-9823f7c36cc8"
      },
      "source": [
        "resultado = confusion_matrix(enfermedad, predictions)\n",
        "\n",
        "(TN, FP, FN, TP) = resultado.ravel()\n",
        "print(\"True positives: \"+str(TP))\n",
        "print(\"True negatives: \"+str(TN))\n",
        "print(\"False positives: \"+str(FP))\n",
        "print(\"False negative: \"+str(FN)+\"\\n\")\n",
        " \n",
        "acc_ar = calcularAccuracy(TP, TN, FP, FN)\n",
        "sen_ar = calcularSensibilidad(TP, TN, FP, FN)\n",
        "spec_ar = calcularEspecificidad(TP, TN, FP, FN)\n",
        "print(\"Precision:\"+str(acc_ar)+\"%\")\n",
        "print(\"Sensibilidad:\"+str(sen_ar)+\"%\")\n",
        "print(\"Especificidad:\"+str(spec_ar)+\"%\")"
      ],
      "execution_count": 31,
      "outputs": [
        {
          "output_type": "stream",
          "text": [
            "True positives: 5389\n",
            "True negatives: 6202\n",
            "False positives: 3191\n",
            "False negative: 3539\n",
            "\n",
            "Precision:63.26619725997489%\n",
            "Sensibilidad:60.36066308243727%\n",
            "Especificidad:66.02789311189183%\n"
          ],
          "name": "stdout"
        }
      ]
    },
    {
      "cell_type": "code",
      "metadata": {
        "id": "0xOFCDpSVke3",
        "colab": {
          "base_uri": "https://localhost:8080/"
        },
        "outputId": "4392ccd8-0e25-410f-e298-55f66201fb8a"
      },
      "source": [
        "score= mean_absolute_error(y_valid,predictions)\n",
        "print(\"MAE:  \",score,\"\\n\\n\")"
      ],
      "execution_count": 32,
      "outputs": [
        {
          "output_type": "stream",
          "text": [
            "MAE:   0.36733802740025107 \n",
            "\n",
            "\n"
          ],
          "name": "stdout"
        }
      ]
    },
    {
      "cell_type": "markdown",
      "metadata": {
        "id": "IsDkAVA8O1Z0"
      },
      "source": [
        "# Random Forest"
      ]
    },
    {
      "cell_type": "code",
      "metadata": {
        "id": "fbezNHS7UyfL",
        "colab": {
          "base_uri": "https://localhost:8080/"
        },
        "outputId": "bacc6baf-df20-4f78-d3dc-5af8d916f435"
      },
      "source": [
        "bosque = RandomForestRegressor(n_estimators=80, random_state=1)\n",
        "bosque.fit(X_train,y_train)"
      ],
      "execution_count": 33,
      "outputs": [
        {
          "output_type": "execute_result",
          "data": {
            "text/plain": [
              "RandomForestRegressor(bootstrap=True, ccp_alpha=0.0, criterion='mse',\n",
              "                      max_depth=None, max_features='auto', max_leaf_nodes=None,\n",
              "                      max_samples=None, min_impurity_decrease=0.0,\n",
              "                      min_impurity_split=None, min_samples_leaf=1,\n",
              "                      min_samples_split=2, min_weight_fraction_leaf=0.0,\n",
              "                      n_estimators=80, n_jobs=None, oob_score=False,\n",
              "                      random_state=1, verbose=0, warm_start=False)"
            ]
          },
          "metadata": {
            "tags": []
          },
          "execution_count": 33
        }
      ]
    },
    {
      "cell_type": "code",
      "metadata": {
        "id": "ygKHLSoEVFej"
      },
      "source": [
        "preds= bosque.predict(X_valid)"
      ],
      "execution_count": 34,
      "outputs": []
    },
    {
      "cell_type": "code",
      "metadata": {
        "id": "LMMyfBIeVUEv",
        "colab": {
          "base_uri": "https://localhost:8080/"
        },
        "outputId": "0d05eba3-276f-47fe-df8d-5a44a15d343c"
      },
      "source": [
        "score= mean_absolute_error(y_valid,preds)\n",
        "print(\"MAE:  \",score,\"\\n\\n\")"
      ],
      "execution_count": 35,
      "outputs": [
        {
          "output_type": "stream",
          "text": [
            "MAE:   0.37569073890913635 \n",
            "\n",
            "\n"
          ],
          "name": "stdout"
        }
      ]
    },
    {
      "cell_type": "markdown",
      "metadata": {
        "id": "hDmptPyJZBbi"
      },
      "source": [
        "# COMPARACIÓN DE MODELOS"
      ]
    },
    {
      "cell_type": "code",
      "metadata": {
        "id": "ohIWTmDgZE_C",
        "colab": {
          "base_uri": "https://localhost:8080/",
          "height": 584
        },
        "outputId": "3311f580-b5c1-4c9a-80ae-5c2b9d195c70"
      },
      "source": [
        "#COMPARAMOS LA PRECISION DE NUESTROS MODELOS A TRAVÉS DE UN GRÁFICO\n",
        "\n",
        "# Creamos la lista de los modelos\n",
        "models = [reg,arbol]\n",
        "\n",
        "# inicia variables vacía para el loop\n",
        "train_accuracy = []\n",
        "test_accuracy = []\n",
        "\n",
        "# Genera el calulo de tu medida a elegir\n",
        "\n",
        "for i in models:\n",
        "    y_pred_test = i.predict(X_valid)\n",
        "    accuracy_test = accuracy_score(y_valid,y_pred_test)\n",
        "    test_accuracy.append(accuracy_test)\n",
        "\n",
        "# Debido a que la predicción de la red se realiza con ayuda de la función predict_classes\n",
        "# se agrega la precisión de manera individual\n",
        "\n",
        "test_accuracy.append(acc_red/100)\n",
        "\n",
        "# Grafica el accuracy\n",
        "colors=sns.color_palette(\"Set2\",3)\n",
        "plt.figure(figsize=(10,8))\n",
        "plt.bar([ 'REGRESIÓN LOGISTICA', 'ÁRBOL','RED NEURONAL'], test_accuracy,color=colors)\n",
        "plt.title('PRECISIÓN DE LOS MODELOS', fontsize=15, color='teal')\n",
        "plt.xlabel('Modelos', fontsize=18, color='slateblue')\n",
        "plt.ylabel('Nivel de precisión', fontsize=18, color='slateblue')\n",
        "plt.tight_layout()\n",
        "plt.show()"
      ],
      "execution_count": 36,
      "outputs": [
        {
          "output_type": "display_data",
          "data": {
            "image/png": "[encoded data removed]",
            "text/plain": [
              "<Figure size 720x576 with 1 Axes>"
            ]
          },
          "metadata": {
            "tags": [],
            "needs_background": "light"
          }
        }
      ]
    },
    {
      "cell_type": "code",
      "metadata": {
        "colab": {
          "base_uri": "https://localhost:8080/",
          "height": 584
        },
        "id": "GTdKjT-gNVeI",
        "outputId": "47e8a1cc-84ed-4c6b-a4cd-500bd530b0d3"
      },
      "source": [
        "#COMPARAMOS LA SENSIBILIDAD DE NUESTROS MODELOS A TRAVÉS DE UN GRÁFICO\n",
        "\n",
        "sensibilidad=[sen_rl/100,sen_ar/100,sen_red/100]\n",
        "\n",
        "# Grafica sensibilidad\n",
        "colors=sns.color_palette(\"Set2\",3)\n",
        "plt.figure(figsize=(10,8))\n",
        "plt.bar([ 'REGRESIÓN LOGISTICA', 'ÁRBOL','RED NEURONAL'], sensibilidad,color=colors)\n",
        "plt.title('SENSIBILIDAD DE LOS MODELOS', fontsize=15, color='teal')\n",
        "plt.xlabel('Modelos', fontsize=18, color='slateblue')\n",
        "plt.ylabel('Nivel de sensibilidad', fontsize=18, color='slateblue')\n",
        "plt.tight_layout()\n",
        "plt.show()"
      ],
      "execution_count": 37,
      "outputs": [
        {
          "output_type": "display_data",
          "data": {
            "image/png": "[encoded data removed]",
            "text/plain": [
              "<Figure size 720x576 with 1 Axes>"
            ]
          },
          "metadata": {
            "tags": [],
            "needs_background": "light"
          }
        }
      ]
    },
    {
      "cell_type": "code",
      "metadata": {
        "colab": {
          "base_uri": "https://localhost:8080/",
          "height": 584
        },
        "id": "FVxndRYuUkYd",
        "outputId": "a5fa6254-e5d0-4f91-ad1a-f44e55d10069"
      },
      "source": [
        "#COMPARAMOS LA ESPECIFICIDAD DE NUESTROS MODELOS A TRAVÉS DE UN GRÁFICO\n",
        "\n",
        "especificidad=[spec_rl/100,spec_ar/100,spec_red/100]\n",
        "\n",
        "# Grafica sensibilidad\n",
        "colors=sns.color_palette(\"Set2\",3)\n",
        "plt.figure(figsize=(10,8))\n",
        "plt.bar([ 'REGRESIÓN LOGISTICA', 'ÁRBOL','RED NEURONAL'], especificidad,color=colors)\n",
        "plt.title('ESPECIFICIDAD DE LOS MODELOS', fontsize=15, color='teal')\n",
        "plt.xlabel('Modelos', fontsize=18, color='slateblue')\n",
        "plt.ylabel('Nivel de especificidad', fontsize=18, color='slateblue')\n",
        "plt.tight_layout()\n",
        "plt.show()"
      ],
      "execution_count": 38,
      "outputs": [
        {
          "output_type": "display_data",
          "data": {
            "image/png": "[encoded data removed]",
            "text/plain": [
              "<Figure size 720x576 with 1 Axes>"
            ]
          },
          "metadata": {
            "tags": [],
            "needs_background": "light"
          }
        }
      ]
    }
  ]
}