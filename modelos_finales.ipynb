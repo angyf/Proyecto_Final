{
  "nbformat": 4,
  "nbformat_minor": 0,
  "metadata": {
    "colab": {
      "name": "modelos finales.ipynb",
      "provenance": [],
      "collapsed_sections": [],
      "include_colab_link": true
    },
    "kernelspec": {
      "name": "python3",
      "display_name": "Python 3"
    },
    "language_info": {
      "name": "python"
    }
  },
  "cells": [
    {
      "cell_type": "markdown",
      "metadata": {
        "id": "view-in-github",
        "colab_type": "text"
      },
      "source": [
        "<a href=\"https://colab.research.google.com/github/angyf/Proyecto_Final/blob/main/modelos_finales.ipynb\" target=\"_parent\"><img src=\"https://colab.research.google.com/assets/colab-badge.svg\" alt=\"Open In Colab\"/></a>"
      ]
    },
    {
      "cell_type": "markdown",
      "metadata": {
        "id": "yDeIh9sai5E0"
      },
      "source": [
        "# Importar librerias y funciones"
      ]
    },
    {
      "cell_type": "code",
      "metadata": {
        "id": "p8eMwJ8URdQ8",
        "colab": {
          "base_uri": "https://localhost:8080/"
        },
        "outputId": "4a7ff45b-5fb4-444f-8fa0-ef0367bf1c2a"
      },
      "source": [
        "# importamos librerias que nos seran de utilidad \n",
        "! pip install plotly\n",
        "!pip install PyDrive\n",
        "\n",
        "import pandas as pd\n",
        "import numpy as np\n",
        "import seaborn as sns\n",
        "import plotly.express as px\n",
        "import matplotlib.pyplot as plt\n",
        "\n",
        "from sklearn.model_selection import train_test_split\n",
        "from sklearn.compose import ColumnTransformer\n",
        "from sklearn.pipeline import Pipeline\n",
        "from sklearn.impute import SimpleImputer\n",
        "from sklearn.preprocessing import OneHotEncoder\n",
        "from keras.models import Sequential\n",
        "from keras.layers import Dense\n",
        "from sklearn.metrics import mean_absolute_error\n",
        "from sklearn.metrics import confusion_matrix\n",
        "from sklearn.linear_model import LogisticRegression\n",
        "from keras.models import model_from_json\n",
        "from sklearn import tree as treeClassifier\n",
        "from sklearn.tree import DecisionTreeRegressor\n",
        "from sklearn.ensemble import RandomForestRegressor\n",
        "from sklearn.metrics import accuracy_score\n",
        "from pydrive.auth import GoogleAuth\n",
        "from pydrive.drive import GoogleDrive\n",
        "from google.colab import auth\n",
        "from oauth2client.client import GoogleCredentials"
      ],
      "execution_count": 1,
      "outputs": [
        {
          "output_type": "stream",
          "text": [
            "Requirement already satisfied: plotly in /usr/local/lib/python3.7/dist-packages (4.4.1)\n",
            "Requirement already satisfied: retrying>=1.3.3 in /usr/local/lib/python3.7/dist-packages (from plotly) (1.3.3)\n",
            "Requirement already satisfied: six in /usr/local/lib/python3.7/dist-packages (from plotly) (1.15.0)\n",
            "Requirement already satisfied: PyDrive in /usr/local/lib/python3.7/dist-packages (1.3.1)\n",
            "Requirement already satisfied: oauth2client>=4.0.0 in /usr/local/lib/python3.7/dist-packages (from PyDrive) (4.1.3)\n",
            "Requirement already satisfied: google-api-python-client>=1.2 in /usr/local/lib/python3.7/dist-packages (from PyDrive) (1.12.8)\n",
            "Requirement already satisfied: PyYAML>=3.0 in /usr/local/lib/python3.7/dist-packages (from PyDrive) (3.13)\n",
            "Requirement already satisfied: pyasn1>=0.1.7 in /usr/local/lib/python3.7/dist-packages (from oauth2client>=4.0.0->PyDrive) (0.4.8)\n",
            "Requirement already satisfied: six>=1.6.1 in /usr/local/lib/python3.7/dist-packages (from oauth2client>=4.0.0->PyDrive) (1.15.0)\n",
            "Requirement already satisfied: rsa>=3.1.4 in /usr/local/lib/python3.7/dist-packages (from oauth2client>=4.0.0->PyDrive) (4.7.2)\n",
            "Requirement already satisfied: pyasn1-modules>=0.0.5 in /usr/local/lib/python3.7/dist-packages (from oauth2client>=4.0.0->PyDrive) (0.2.8)\n",
            "Requirement already satisfied: httplib2>=0.9.1 in /usr/local/lib/python3.7/dist-packages (from oauth2client>=4.0.0->PyDrive) (0.17.4)\n",
            "Requirement already satisfied: google-api-core<2dev,>=1.21.0 in /usr/local/lib/python3.7/dist-packages (from google-api-python-client>=1.2->PyDrive) (1.26.3)\n",
            "Requirement already satisfied: google-auth>=1.16.0 in /usr/local/lib/python3.7/dist-packages (from google-api-python-client>=1.2->PyDrive) (1.30.0)\n",
            "Requirement already satisfied: uritemplate<4dev,>=3.0.0 in /usr/local/lib/python3.7/dist-packages (from google-api-python-client>=1.2->PyDrive) (3.0.1)\n",
            "Requirement already satisfied: google-auth-httplib2>=0.0.3 in /usr/local/lib/python3.7/dist-packages (from google-api-python-client>=1.2->PyDrive) (0.0.4)\n",
            "Requirement already satisfied: googleapis-common-protos<2.0dev,>=1.6.0 in /usr/local/lib/python3.7/dist-packages (from google-api-core<2dev,>=1.21.0->google-api-python-client>=1.2->PyDrive) (1.53.0)\n",
            "Requirement already satisfied: protobuf>=3.12.0 in /usr/local/lib/python3.7/dist-packages (from google-api-core<2dev,>=1.21.0->google-api-python-client>=1.2->PyDrive) (3.12.4)\n",
            "Requirement already satisfied: setuptools>=40.3.0 in /usr/local/lib/python3.7/dist-packages (from google-api-core<2dev,>=1.21.0->google-api-python-client>=1.2->PyDrive) (57.0.0)\n",
            "Requirement already satisfied: packaging>=14.3 in /usr/local/lib/python3.7/dist-packages (from google-api-core<2dev,>=1.21.0->google-api-python-client>=1.2->PyDrive) (20.9)\n",
            "Requirement already satisfied: pytz in /usr/local/lib/python3.7/dist-packages (from google-api-core<2dev,>=1.21.0->google-api-python-client>=1.2->PyDrive) (2018.9)\n",
            "Requirement already satisfied: requests<3.0.0dev,>=2.18.0 in /usr/local/lib/python3.7/dist-packages (from google-api-core<2dev,>=1.21.0->google-api-python-client>=1.2->PyDrive) (2.23.0)\n",
            "Requirement already satisfied: cachetools<5.0,>=2.0.0 in /usr/local/lib/python3.7/dist-packages (from google-auth>=1.16.0->google-api-python-client>=1.2->PyDrive) (4.2.2)\n",
            "Requirement already satisfied: pyparsing>=2.0.2 in /usr/local/lib/python3.7/dist-packages (from packaging>=14.3->google-api-core<2dev,>=1.21.0->google-api-python-client>=1.2->PyDrive) (2.4.7)\n",
            "Requirement already satisfied: idna<3,>=2.5 in /usr/local/lib/python3.7/dist-packages (from requests<3.0.0dev,>=2.18.0->google-api-core<2dev,>=1.21.0->google-api-python-client>=1.2->PyDrive) (2.10)\n",
            "Requirement already satisfied: certifi>=2017.4.17 in /usr/local/lib/python3.7/dist-packages (from requests<3.0.0dev,>=2.18.0->google-api-core<2dev,>=1.21.0->google-api-python-client>=1.2->PyDrive) (2020.12.5)\n",
            "Requirement already satisfied: chardet<4,>=3.0.2 in /usr/local/lib/python3.7/dist-packages (from requests<3.0.0dev,>=2.18.0->google-api-core<2dev,>=1.21.0->google-api-python-client>=1.2->PyDrive) (3.0.4)\n",
            "Requirement already satisfied: urllib3!=1.25.0,!=1.25.1,<1.26,>=1.21.1 in /usr/local/lib/python3.7/dist-packages (from requests<3.0.0dev,>=2.18.0->google-api-core<2dev,>=1.21.0->google-api-python-client>=1.2->PyDrive) (1.24.3)\n"
          ],
          "name": "stdout"
        }
      ]
    },
    {
      "cell_type": "code",
      "metadata": {
        "id": "XnQixcAGRhs-"
      },
      "source": [
        "# Funciones para obtener eficiencia de nuestros modelos\n",
        "def calcularAccuracy(TP, TN, FP, FN):\n",
        "    accuracy = (TP + TN) / (TP + TN + FP + FN)\n",
        "    accuracy = accuracy * 100\n",
        "    return accuracy\n",
        "def calcularSensibilidad(TP, TN, FP, FN):\n",
        "    sensibilidad = TP / (TP + FN)\n",
        "    sensibilidad = sensibilidad * 100\n",
        "    return sensibilidad\n",
        "def calcularEspecificidad(TP, TN, FP, FN):\n",
        "    especificidad = TN / (TN + FP)\n",
        "    especificidad = especificidad * 100\n",
        "    return especificidad"
      ],
      "execution_count": 2,
      "outputs": []
    },
    {
      "cell_type": "markdown",
      "metadata": {
        "id": "As2ZyBfsjDyI"
      },
      "source": [
        "# Datos"
      ]
    },
    {
      "cell_type": "code",
      "metadata": {
        "id": "9ycN8gFpRwk_"
      },
      "source": [
        "#Cargamos nuestro dataset\n",
        "\n",
        "url='https://drive.google.com/file/d/1lLgbJDE7Ybb4x_4WpVcmdwxdvVJv_9A7/view?usp=sharing'\n",
        "path = 'https://drive.google.com/uc?export=download&id='+url.split('/')[-2]\n",
        "df = pd.read_csv(path,index_col=0)\n",
        "\n",
        "# separamos nuestros datos en la variable a predecir y y las variables independientes que resultaron significativas para los modelos a crear\n",
        "y=df.enfermedad_cardiaca\n",
        "X=df.drop(['enfermedad_cardiaca','imc','sexo','presion_diastolica'],axis=1)\n",
        "\n",
        "# separar en datos de prueba y entrenamiento\n",
        "X_train_full,X_valid_full, y_train, y_valid=train_test_split(X,y,test_size=0.3,random_state=15)\n",
        "\n",
        "# Seleccionar variables numericas \n",
        "numerical_cols=[name for name in X_train_full.columns if X_train_full[name].dtype in [\"int64\",\"float64\"]]\n",
        "\n",
        "# seleccionar las columnas que queremos\n",
        "X_train =X_train_full[numerical_cols].copy()\n",
        "X_valid=X_valid_full[numerical_cols].copy()\n"
      ],
      "execution_count": 3,
      "outputs": []
    },
    {
      "cell_type": "code",
      "metadata": {
        "id": "TeRpnLBGbFwM"
      },
      "source": [
        "#Preprocesar las variables numericas\n",
        "numerical_transformer= SimpleImputer(strategy=\"most_frequent\")\n",
        "\n",
        "#Juntar las variables preprocesadas\n",
        "preprocessor= ColumnTransformer(\n",
        "    transformers=[(\"num\",numerical_transformer,numerical_cols)])\n"
      ],
      "execution_count": 4,
      "outputs": []
    },
    {
      "cell_type": "markdown",
      "metadata": {
        "id": "IV26ld-4r_4L"
      },
      "source": [
        "Lo que se busca a continuación es crear distintos modelos con el fin de obtener el que realice una mejor clasificación sobre si la persona desarrollara o no una enfermedad cardiaca de acuerdo con ciertas caracteristicas.\n",
        "\n",
        "Se realizo la creación de 4 modelos,:\n",
        "\n",
        "* Red neuronal\n",
        "\n",
        "* Regresión logistica\n",
        "\n",
        "* Árboles de decisión\n",
        "\n",
        "* Bosque aleatorios"
      ]
    },
    {
      "cell_type": "markdown",
      "metadata": {
        "id": "B-dow-5XgEEk"
      },
      "source": [
        "# REDES NEURONALES"
      ]
    },
    {
      "cell_type": "code",
      "metadata": {
        "id": "paMyxy7RgEYb",
        "colab": {
          "base_uri": "https://localhost:8080/"
        },
        "outputId": "f62fbce2-1a53-460a-ae35-b2a10765dcb5"
      },
      "source": [
        "# Definamos nuestra red neuronal con Keras\n",
        "red_neuronal = Sequential()\n",
        "#Agregamos capas, imput_dim es el numero de inputs que recibe cada capa, solo se\n",
        "#le agrega a la primera pues conocemos el numero de variables con las que iniciamos \n",
        "red_neuronal.add(Dense(17, input_dim=9, activation=\"relu\"))\n",
        "red_neuronal.add(Dense(5, activation=\"relu\"))\n",
        "red_neuronal.add(Dense(14, activation=\"relu\"))\n",
        "red_neuronal.add(Dense(3, activation=\"relu\"))\n",
        "red_neuronal.add(Dense(9, activation=\"relu\"))\n",
        "#La ultima función de activación es sigmoide debido a que el resultado esperado es\n",
        "#una variable binaria\n",
        "red_neuronal.add(Dense(1, activation=\"sigmoid\"))\n",
        "# Compilar\n",
        "red_neuronal.compile(loss=\"binary_crossentropy\", optimizer=\"adam\", metrics=[\"accuracy\"])\n",
        "#Entrenamos el modelo\n",
        "red_neuronal.fit(X_train,y_train, epochs=150, batch_size= 28)"
      ],
      "execution_count": 5,
      "outputs": [
        {
          "output_type": "stream",
          "text": [
            "Epoch 1/150\n",
            "1527/1527 [==============================] - 16s 2ms/step - loss: 0.6419 - accuracy: 0.6673\n",
            "Epoch 2/150\n",
            "1527/1527 [==============================] - 3s 2ms/step - loss: 0.6017 - accuracy: 0.6930\n",
            "Epoch 3/150\n",
            "1527/1527 [==============================] - 3s 2ms/step - loss: 0.5969 - accuracy: 0.6921\n",
            "Epoch 4/150\n",
            "1527/1527 [==============================] - 3s 2ms/step - loss: 0.5899 - accuracy: 0.7002\n",
            "Epoch 5/150\n",
            "1527/1527 [==============================] - 3s 2ms/step - loss: 0.5859 - accuracy: 0.7009\n",
            "Epoch 6/150\n",
            "1527/1527 [==============================] - 3s 2ms/step - loss: 0.5813 - accuracy: 0.7055\n",
            "Epoch 7/150\n",
            "1527/1527 [==============================] - 3s 2ms/step - loss: 0.5848 - accuracy: 0.6967\n",
            "Epoch 8/150\n",
            "1527/1527 [==============================] - 3s 2ms/step - loss: 0.5804 - accuracy: 0.7033\n",
            "Epoch 9/150\n",
            "1527/1527 [==============================] - 3s 2ms/step - loss: 0.5793 - accuracy: 0.7058\n",
            "Epoch 10/150\n",
            "1527/1527 [==============================] - 3s 2ms/step - loss: 0.5761 - accuracy: 0.7084\n",
            "Epoch 11/150\n",
            "1527/1527 [==============================] - 3s 2ms/step - loss: 0.5767 - accuracy: 0.7065\n",
            "Epoch 12/150\n",
            "1527/1527 [==============================] - 3s 2ms/step - loss: 0.5704 - accuracy: 0.7148\n",
            "Epoch 13/150\n",
            "1527/1527 [==============================] - 3s 2ms/step - loss: 0.5745 - accuracy: 0.7106\n",
            "Epoch 14/150\n",
            "1527/1527 [==============================] - 3s 2ms/step - loss: 0.5771 - accuracy: 0.7041\n",
            "Epoch 15/150\n",
            "1527/1527 [==============================] - 3s 2ms/step - loss: 0.5766 - accuracy: 0.7054\n",
            "Epoch 16/150\n",
            "1527/1527 [==============================] - 3s 2ms/step - loss: 0.5730 - accuracy: 0.7105\n",
            "Epoch 17/150\n",
            "1527/1527 [==============================] - 3s 2ms/step - loss: 0.5748 - accuracy: 0.7074\n",
            "Epoch 18/150\n",
            "1527/1527 [==============================] - 3s 2ms/step - loss: 0.5742 - accuracy: 0.7116\n",
            "Epoch 19/150\n",
            "1527/1527 [==============================] - 3s 2ms/step - loss: 0.5743 - accuracy: 0.7078\n",
            "Epoch 20/150\n",
            "1527/1527 [==============================] - 3s 2ms/step - loss: 0.5696 - accuracy: 0.7147\n",
            "Epoch 21/150\n",
            "1527/1527 [==============================] - 3s 2ms/step - loss: 0.5732 - accuracy: 0.7077\n",
            "Epoch 22/150\n",
            "1527/1527 [==============================] - 3s 2ms/step - loss: 0.5682 - accuracy: 0.7138\n",
            "Epoch 23/150\n",
            "1527/1527 [==============================] - 3s 2ms/step - loss: 0.5701 - accuracy: 0.7133\n",
            "Epoch 24/150\n",
            "1527/1527 [==============================] - 3s 2ms/step - loss: 0.5725 - accuracy: 0.7113\n",
            "Epoch 25/150\n",
            "1527/1527 [==============================] - 3s 2ms/step - loss: 0.5690 - accuracy: 0.7153\n",
            "Epoch 26/150\n",
            "1527/1527 [==============================] - 3s 2ms/step - loss: 0.5660 - accuracy: 0.7152\n",
            "Epoch 27/150\n",
            "1527/1527 [==============================] - 3s 2ms/step - loss: 0.5696 - accuracy: 0.7106\n",
            "Epoch 28/150\n",
            "1527/1527 [==============================] - 3s 2ms/step - loss: 0.5645 - accuracy: 0.7174\n",
            "Epoch 29/150\n",
            "1527/1527 [==============================] - 3s 2ms/step - loss: 0.5653 - accuracy: 0.7174\n",
            "Epoch 30/150\n",
            "1527/1527 [==============================] - 3s 2ms/step - loss: 0.5703 - accuracy: 0.7122\n",
            "Epoch 31/150\n",
            "1527/1527 [==============================] - 3s 2ms/step - loss: 0.5670 - accuracy: 0.7157\n",
            "Epoch 32/150\n",
            "1527/1527 [==============================] - 3s 2ms/step - loss: 0.5648 - accuracy: 0.7163\n",
            "Epoch 33/150\n",
            "1527/1527 [==============================] - 3s 2ms/step - loss: 0.5636 - accuracy: 0.7173\n",
            "Epoch 34/150\n",
            "1527/1527 [==============================] - 3s 2ms/step - loss: 0.5639 - accuracy: 0.7175\n",
            "Epoch 35/150\n",
            "1527/1527 [==============================] - 3s 2ms/step - loss: 0.5659 - accuracy: 0.7181\n",
            "Epoch 36/150\n",
            "1527/1527 [==============================] - 3s 2ms/step - loss: 0.5656 - accuracy: 0.7160\n",
            "Epoch 37/150\n",
            "1527/1527 [==============================] - 3s 2ms/step - loss: 0.5671 - accuracy: 0.7179\n",
            "Epoch 38/150\n",
            "1527/1527 [==============================] - 3s 2ms/step - loss: 0.5663 - accuracy: 0.7173\n",
            "Epoch 39/150\n",
            "1527/1527 [==============================] - 3s 2ms/step - loss: 0.5629 - accuracy: 0.7213\n",
            "Epoch 40/150\n",
            "1527/1527 [==============================] - 3s 2ms/step - loss: 0.5669 - accuracy: 0.7131\n",
            "Epoch 41/150\n",
            "1527/1527 [==============================] - 3s 2ms/step - loss: 0.5660 - accuracy: 0.7194\n",
            "Epoch 42/150\n",
            "1527/1527 [==============================] - 3s 2ms/step - loss: 0.5616 - accuracy: 0.7217\n",
            "Epoch 43/150\n",
            "1527/1527 [==============================] - 3s 2ms/step - loss: 0.5611 - accuracy: 0.7209\n",
            "Epoch 44/150\n",
            "1527/1527 [==============================] - 3s 2ms/step - loss: 0.5629 - accuracy: 0.7176\n",
            "Epoch 45/150\n",
            "1527/1527 [==============================] - 3s 2ms/step - loss: 0.5650 - accuracy: 0.7144\n",
            "Epoch 46/150\n",
            "1527/1527 [==============================] - 3s 2ms/step - loss: 0.5603 - accuracy: 0.7216\n",
            "Epoch 47/150\n",
            "1527/1527 [==============================] - 3s 2ms/step - loss: 0.5569 - accuracy: 0.7223\n",
            "Epoch 48/150\n",
            "1527/1527 [==============================] - 3s 2ms/step - loss: 0.5633 - accuracy: 0.7180\n",
            "Epoch 49/150\n",
            "1527/1527 [==============================] - 3s 2ms/step - loss: 0.5647 - accuracy: 0.7148\n",
            "Epoch 50/150\n",
            "1527/1527 [==============================] - 3s 2ms/step - loss: 0.5613 - accuracy: 0.7204\n",
            "Epoch 51/150\n",
            "1527/1527 [==============================] - 3s 2ms/step - loss: 0.5641 - accuracy: 0.7175\n",
            "Epoch 52/150\n",
            "1527/1527 [==============================] - 3s 2ms/step - loss: 0.5615 - accuracy: 0.7204\n",
            "Epoch 53/150\n",
            "1527/1527 [==============================] - 3s 2ms/step - loss: 0.5598 - accuracy: 0.7202\n",
            "Epoch 54/150\n",
            "1527/1527 [==============================] - 3s 2ms/step - loss: 0.5621 - accuracy: 0.7210\n",
            "Epoch 55/150\n",
            "1527/1527 [==============================] - 3s 2ms/step - loss: 0.5608 - accuracy: 0.7211\n",
            "Epoch 56/150\n",
            "1527/1527 [==============================] - 3s 2ms/step - loss: 0.5591 - accuracy: 0.7212\n",
            "Epoch 57/150\n",
            "1527/1527 [==============================] - 3s 2ms/step - loss: 0.5635 - accuracy: 0.7186\n",
            "Epoch 58/150\n",
            "1527/1527 [==============================] - 3s 2ms/step - loss: 0.5555 - accuracy: 0.7259\n",
            "Epoch 59/150\n",
            "1527/1527 [==============================] - 3s 2ms/step - loss: 0.5589 - accuracy: 0.7204\n",
            "Epoch 60/150\n",
            "1527/1527 [==============================] - 3s 2ms/step - loss: 0.5608 - accuracy: 0.7198\n",
            "Epoch 61/150\n",
            "1527/1527 [==============================] - 3s 2ms/step - loss: 0.5606 - accuracy: 0.7208\n",
            "Epoch 62/150\n",
            "1527/1527 [==============================] - 3s 2ms/step - loss: 0.5636 - accuracy: 0.7147\n",
            "Epoch 63/150\n",
            "1527/1527 [==============================] - 3s 2ms/step - loss: 0.5583 - accuracy: 0.7220\n",
            "Epoch 64/150\n",
            "1527/1527 [==============================] - 3s 2ms/step - loss: 0.5593 - accuracy: 0.7209\n",
            "Epoch 65/150\n",
            "1527/1527 [==============================] - 3s 2ms/step - loss: 0.5610 - accuracy: 0.7230\n",
            "Epoch 66/150\n",
            "1527/1527 [==============================] - 3s 2ms/step - loss: 0.5594 - accuracy: 0.7200\n",
            "Epoch 67/150\n",
            "1527/1527 [==============================] - 3s 2ms/step - loss: 0.5593 - accuracy: 0.7207\n",
            "Epoch 68/150\n",
            "1527/1527 [==============================] - 3s 2ms/step - loss: 0.5592 - accuracy: 0.7196\n",
            "Epoch 69/150\n",
            "1527/1527 [==============================] - 3s 2ms/step - loss: 0.5574 - accuracy: 0.7236\n",
            "Epoch 70/150\n",
            "1527/1527 [==============================] - 3s 2ms/step - loss: 0.5586 - accuracy: 0.7218\n",
            "Epoch 71/150\n",
            "1527/1527 [==============================] - 3s 2ms/step - loss: 0.5600 - accuracy: 0.7209\n",
            "Epoch 72/150\n",
            "1527/1527 [==============================] - 3s 2ms/step - loss: 0.5596 - accuracy: 0.7197\n",
            "Epoch 73/150\n",
            "1527/1527 [==============================] - 3s 2ms/step - loss: 0.5602 - accuracy: 0.7208\n",
            "Epoch 74/150\n",
            "1527/1527 [==============================] - 3s 2ms/step - loss: 0.5596 - accuracy: 0.7217\n",
            "Epoch 75/150\n",
            "1527/1527 [==============================] - 3s 2ms/step - loss: 0.5578 - accuracy: 0.7224\n",
            "Epoch 76/150\n",
            "1527/1527 [==============================] - 3s 2ms/step - loss: 0.5563 - accuracy: 0.7224\n",
            "Epoch 77/150\n",
            "1527/1527 [==============================] - 3s 2ms/step - loss: 0.5610 - accuracy: 0.7195\n",
            "Epoch 78/150\n",
            "1527/1527 [==============================] - 3s 2ms/step - loss: 0.5581 - accuracy: 0.7211\n",
            "Epoch 79/150\n",
            "1527/1527 [==============================] - 3s 2ms/step - loss: 0.5589 - accuracy: 0.7225\n",
            "Epoch 80/150\n",
            "1527/1527 [==============================] - 3s 2ms/step - loss: 0.5593 - accuracy: 0.7189\n",
            "Epoch 81/150\n",
            "1527/1527 [==============================] - 3s 2ms/step - loss: 0.5631 - accuracy: 0.7194\n",
            "Epoch 82/150\n",
            "1527/1527 [==============================] - 3s 2ms/step - loss: 0.5625 - accuracy: 0.7183\n",
            "Epoch 83/150\n",
            "1527/1527 [==============================] - 3s 2ms/step - loss: 0.5592 - accuracy: 0.7207\n",
            "Epoch 84/150\n",
            "1527/1527 [==============================] - 3s 2ms/step - loss: 0.5570 - accuracy: 0.7227\n",
            "Epoch 85/150\n",
            "1527/1527 [==============================] - 3s 2ms/step - loss: 0.5590 - accuracy: 0.7220\n",
            "Epoch 86/150\n",
            "1527/1527 [==============================] - 3s 2ms/step - loss: 0.5610 - accuracy: 0.7170\n",
            "Epoch 87/150\n",
            "1527/1527 [==============================] - 3s 2ms/step - loss: 0.5598 - accuracy: 0.7205\n",
            "Epoch 88/150\n",
            "1527/1527 [==============================] - 3s 2ms/step - loss: 0.5572 - accuracy: 0.7200\n",
            "Epoch 89/150\n",
            "1527/1527 [==============================] - 3s 2ms/step - loss: 0.5589 - accuracy: 0.7219\n",
            "Epoch 90/150\n",
            "1527/1527 [==============================] - 3s 2ms/step - loss: 0.5580 - accuracy: 0.7197\n",
            "Epoch 91/150\n",
            "1527/1527 [==============================] - 3s 2ms/step - loss: 0.5567 - accuracy: 0.7240\n",
            "Epoch 92/150\n",
            "1527/1527 [==============================] - 3s 2ms/step - loss: 0.5582 - accuracy: 0.7214\n",
            "Epoch 93/150\n",
            "1527/1527 [==============================] - 3s 2ms/step - loss: 0.5587 - accuracy: 0.7214\n",
            "Epoch 94/150\n",
            "1527/1527 [==============================] - 3s 2ms/step - loss: 0.5561 - accuracy: 0.7245\n",
            "Epoch 95/150\n",
            "1527/1527 [==============================] - 3s 2ms/step - loss: 0.5624 - accuracy: 0.7206\n",
            "Epoch 96/150\n",
            "1527/1527 [==============================] - 3s 2ms/step - loss: 0.5641 - accuracy: 0.7175\n",
            "Epoch 97/150\n",
            "1527/1527 [==============================] - 3s 2ms/step - loss: 0.5594 - accuracy: 0.7231\n",
            "Epoch 98/150\n",
            "1527/1527 [==============================] - 3s 2ms/step - loss: 0.5570 - accuracy: 0.7217\n",
            "Epoch 99/150\n",
            "1527/1527 [==============================] - 3s 2ms/step - loss: 0.5624 - accuracy: 0.7191\n",
            "Epoch 100/150\n",
            "1527/1527 [==============================] - 3s 2ms/step - loss: 0.5622 - accuracy: 0.7175\n",
            "Epoch 101/150\n",
            "1527/1527 [==============================] - 3s 2ms/step - loss: 0.5563 - accuracy: 0.7245\n",
            "Epoch 102/150\n",
            "1527/1527 [==============================] - 3s 2ms/step - loss: 0.5577 - accuracy: 0.7205\n",
            "Epoch 103/150\n",
            "1527/1527 [==============================] - 3s 2ms/step - loss: 0.5545 - accuracy: 0.7232\n",
            "Epoch 104/150\n",
            "1527/1527 [==============================] - 3s 2ms/step - loss: 0.5563 - accuracy: 0.7220\n",
            "Epoch 105/150\n",
            "1527/1527 [==============================] - 3s 2ms/step - loss: 0.5617 - accuracy: 0.7181\n",
            "Epoch 106/150\n",
            "1527/1527 [==============================] - 3s 2ms/step - loss: 0.5596 - accuracy: 0.7209\n",
            "Epoch 107/150\n",
            "1527/1527 [==============================] - 3s 2ms/step - loss: 0.5580 - accuracy: 0.7212\n",
            "Epoch 108/150\n",
            "1527/1527 [==============================] - 3s 2ms/step - loss: 0.5558 - accuracy: 0.7247\n",
            "Epoch 109/150\n",
            "1527/1527 [==============================] - 3s 2ms/step - loss: 0.5571 - accuracy: 0.7197\n",
            "Epoch 110/150\n",
            "1527/1527 [==============================] - 3s 2ms/step - loss: 0.5604 - accuracy: 0.7214\n",
            "Epoch 111/150\n",
            "1527/1527 [==============================] - 3s 2ms/step - loss: 0.5589 - accuracy: 0.7219\n",
            "Epoch 112/150\n",
            "1527/1527 [==============================] - 3s 2ms/step - loss: 0.5584 - accuracy: 0.7224\n",
            "Epoch 113/150\n",
            "1527/1527 [==============================] - 3s 2ms/step - loss: 0.5623 - accuracy: 0.7187\n",
            "Epoch 114/150\n",
            "1527/1527 [==============================] - 3s 2ms/step - loss: 0.5550 - accuracy: 0.7242\n",
            "Epoch 115/150\n",
            "1527/1527 [==============================] - 3s 2ms/step - loss: 0.5575 - accuracy: 0.7225\n",
            "Epoch 116/150\n",
            "1527/1527 [==============================] - 3s 2ms/step - loss: 0.5559 - accuracy: 0.7258\n",
            "Epoch 117/150\n",
            "1527/1527 [==============================] - 3s 2ms/step - loss: 0.5582 - accuracy: 0.7211\n",
            "Epoch 118/150\n",
            "1527/1527 [==============================] - 3s 2ms/step - loss: 0.5575 - accuracy: 0.7253\n",
            "Epoch 119/150\n",
            "1527/1527 [==============================] - 3s 2ms/step - loss: 0.5580 - accuracy: 0.7240\n",
            "Epoch 120/150\n",
            "1527/1527 [==============================] - 3s 2ms/step - loss: 0.5586 - accuracy: 0.7221\n",
            "Epoch 121/150\n",
            "1527/1527 [==============================] - 3s 2ms/step - loss: 0.5563 - accuracy: 0.7241\n",
            "Epoch 122/150\n",
            "1527/1527 [==============================] - 3s 2ms/step - loss: 0.5542 - accuracy: 0.7232\n",
            "Epoch 123/150\n",
            "1527/1527 [==============================] - 3s 2ms/step - loss: 0.5613 - accuracy: 0.7182\n",
            "Epoch 124/150\n",
            "1527/1527 [==============================] - 3s 2ms/step - loss: 0.5561 - accuracy: 0.7216\n",
            "Epoch 125/150\n",
            "1527/1527 [==============================] - 3s 2ms/step - loss: 0.5551 - accuracy: 0.7257\n",
            "Epoch 126/150\n",
            "1527/1527 [==============================] - 3s 2ms/step - loss: 0.5614 - accuracy: 0.7186\n",
            "Epoch 127/150\n",
            "1527/1527 [==============================] - 3s 2ms/step - loss: 0.5556 - accuracy: 0.7240\n",
            "Epoch 128/150\n",
            "1527/1527 [==============================] - 3s 2ms/step - loss: 0.5554 - accuracy: 0.7251\n",
            "Epoch 129/150\n",
            "1527/1527 [==============================] - 3s 2ms/step - loss: 0.5585 - accuracy: 0.7209\n",
            "Epoch 130/150\n",
            "1527/1527 [==============================] - 3s 2ms/step - loss: 0.5589 - accuracy: 0.7219\n",
            "Epoch 131/150\n",
            "1527/1527 [==============================] - 3s 2ms/step - loss: 0.5586 - accuracy: 0.7230\n",
            "Epoch 132/150\n",
            "1527/1527 [==============================] - 3s 2ms/step - loss: 0.5553 - accuracy: 0.7257\n",
            "Epoch 133/150\n",
            "1527/1527 [==============================] - 3s 2ms/step - loss: 0.5598 - accuracy: 0.7201\n",
            "Epoch 134/150\n",
            "1527/1527 [==============================] - 3s 2ms/step - loss: 0.5543 - accuracy: 0.7242\n",
            "Epoch 135/150\n",
            "1527/1527 [==============================] - 3s 2ms/step - loss: 0.5550 - accuracy: 0.7257\n",
            "Epoch 136/150\n",
            "1527/1527 [==============================] - 3s 2ms/step - loss: 0.5590 - accuracy: 0.7202\n",
            "Epoch 137/150\n",
            "1527/1527 [==============================] - 3s 2ms/step - loss: 0.5607 - accuracy: 0.7193\n",
            "Epoch 138/150\n",
            "1527/1527 [==============================] - 3s 2ms/step - loss: 0.5598 - accuracy: 0.7199\n",
            "Epoch 139/150\n",
            "1527/1527 [==============================] - 3s 2ms/step - loss: 0.5567 - accuracy: 0.7224\n",
            "Epoch 140/150\n",
            "1527/1527 [==============================] - 3s 2ms/step - loss: 0.5560 - accuracy: 0.7228\n",
            "Epoch 141/150\n",
            "1527/1527 [==============================] - 3s 2ms/step - loss: 0.5584 - accuracy: 0.7231\n",
            "Epoch 142/150\n",
            "1527/1527 [==============================] - 3s 2ms/step - loss: 0.5578 - accuracy: 0.7218\n",
            "Epoch 143/150\n",
            "1527/1527 [==============================] - 3s 2ms/step - loss: 0.5578 - accuracy: 0.7243\n",
            "Epoch 144/150\n",
            "1527/1527 [==============================] - 3s 2ms/step - loss: 0.5526 - accuracy: 0.7247\n",
            "Epoch 145/150\n",
            "1527/1527 [==============================] - 3s 2ms/step - loss: 0.5587 - accuracy: 0.7219\n",
            "Epoch 146/150\n",
            "1527/1527 [==============================] - 3s 2ms/step - loss: 0.5588 - accuracy: 0.7217\n",
            "Epoch 147/150\n",
            "1527/1527 [==============================] - 3s 2ms/step - loss: 0.5562 - accuracy: 0.7229\n",
            "Epoch 148/150\n",
            "1527/1527 [==============================] - 3s 2ms/step - loss: 0.5535 - accuracy: 0.7257\n",
            "Epoch 149/150\n",
            "1527/1527 [==============================] - 3s 2ms/step - loss: 0.5578 - accuracy: 0.7232\n",
            "Epoch 150/150\n",
            "1527/1527 [==============================] - 3s 2ms/step - loss: 0.5572 - accuracy: 0.7246\n"
          ],
          "name": "stdout"
        },
        {
          "output_type": "execute_result",
          "data": {
            "text/plain": [
              "<keras.callbacks.History at 0x7f8386193490>"
            ]
          },
          "metadata": {
            "tags": []
          },
          "execution_count": 5
        }
      ]
    },
    {
      "cell_type": "code",
      "metadata": {
        "id": "sFZcBeWmCo8A",
        "colab": {
          "base_uri": "https://localhost:8080/"
        },
        "outputId": "b5438141-bd83-4b30-ffee-bc252f5352a2"
      },
      "source": [
        "#prediccion sobre la red\n",
        "y_predict = red_neuronal.predict_classes(X_valid)\n",
        "\n",
        "# Métricas del modelo\n",
        "resultado = confusion_matrix(y_valid, y_predict)\n",
        "(TN, FP, FN, TP) = resultado.ravel()\n",
        " \n",
        "acc = calcularAccuracy(TP, TN, FP, FN)\n",
        "sen = calcularSensibilidad(TP, TN, FP, FN)\n",
        "spec = calcularEspecificidad(TP, TN, FP, FN)\n",
        "print(\"Precision:\"+str(acc)+\"%\")\n",
        "print(\"Sensibilidad:\"+str(sen)+\"%\")\n",
        "print(\"Especificidad:\"+str(spec)+\"%\")\n",
        "\n",
        "# Guardar el modelo entrenado\n",
        "model_json = red_neuronal.to_json()\n",
        "with open(\"model.json\", \"w\") as json_file:\n",
        "    json_file.write(model_json)\n",
        "#serializar los pesos a HDF5\n",
        "red_neuronal.save_weights(\"model.h5\")"
      ],
      "execution_count": 6,
      "outputs": [
        {
          "output_type": "stream",
          "text": [
            "/usr/local/lib/python3.7/dist-packages/keras/engine/sequential.py:450: UserWarning:\n",
            "\n",
            "`model.predict_classes()` is deprecated and will be removed after 2021-01-01. Please use instead:* `np.argmax(model.predict(x), axis=-1)`,   if your model does multi-class classification   (e.g. if it uses a `softmax` last-layer activation).* `(model.predict(x) > 0.5).astype(\"int32\")`,   if your model does binary classification   (e.g. if it uses a `sigmoid` last-layer activation).\n",
            "\n"
          ],
          "name": "stderr"
        },
        {
          "output_type": "stream",
          "text": [
            "Precision:72.41416953223077%\n",
            "Sensibilidad:66.57706093189965%\n",
            "Especificidad:77.96231236026829%\n"
          ],
          "name": "stdout"
        }
      ]
    },
    {
      "cell_type": "markdown",
      "metadata": {
        "id": "8vE1dsgq_zp0"
      },
      "source": [
        "**Experimento 0**\n",
        "- Capas 9\n",
        "- Neuronas por capa 10,15,8,4,9,11,5,2,1\n",
        "- Epochs 68\n",
        "- Batch 45\n",
        "- Precision 51.26% \n",
        "- Sensibilidad 0%\n",
        "- Especificidad 100%\n",
        "\n",
        "\n",
        "\n",
        "**Experimento 1**\n",
        "- Capas  6\n",
        "- Neuronas por capa 10,15,8,13,5,1\n",
        "- Epochs 130\n",
        "- Batch 28\n",
        "- Precision 71.69%\n",
        "- Sensibilidad 75.33%\n",
        "- Especificidad 68.24%\n",
        "\n",
        "\n",
        "**Experimento 2**\n",
        "- Capas 4\n",
        "- Neuronas por capa 10,15,8,1\n",
        "- Epochs 130\n",
        "- Batch 28\n",
        "- Precision 72.10%\n",
        "- Sensibilidad 64.15%\n",
        "- Especificidad 79.64%\n",
        "\n",
        "\n",
        "**Experimento 3**\n",
        "- Capas 9\n",
        "- Neuronas por capa 20,13,7,15,2,9,5,7,1\n",
        "- Epochs 120\n",
        "- Batch 25\n",
        "- Precision 72.15\n",
        "- Sensibilidad 66.53\n",
        "- Especificidad 77.50\n",
        "\n",
        "\n",
        "**Experimento 4**\n",
        "- Capas 12\n",
        "- Neuronas por capa 30,18,20,13,5,17,6,3,16,20,5,1 \n",
        "- Epochs 130\n",
        "- Batch 15\n",
        "- Precision 72.23 \n",
        "- Sensibilidad 66.55\n",
        "- Especificidad 77.63\n",
        "\n",
        "\n",
        "**Experimento 5**\n",
        "- Capas 5\n",
        "- Neuronas por capa 17,5,9,15,1 \n",
        "- Epochs 130\n",
        "- Batch 35\n",
        "- Precision 71.73\n",
        "- Sensibilidad 61.02\n",
        "- Especificidad 81.91\n",
        "\n",
        "**Experimento 6**\n",
        "- Capas 6\n",
        "- Neuronas por capa 17,5,14,3,9,1 \n",
        "- Epochs 130\n",
        "- Batch 28\n",
        "- Precision  71.97\n",
        "- Sensibilidad  64.79\n",
        "- Especificidad 78.80\n",
        "\n",
        "**Experimento 7**\n",
        "- Capas 7\n",
        "- Neuronas por capa 4,13,7,19,5,8,1 \n",
        "- Epochs 130\n",
        "- Batch 35\n",
        "- Precision 72.16\n",
        "- Sensibilidad 66.71\n",
        "- Especificidad 77.34\n",
        "\n",
        "**Experimento 8**\n",
        "- Capas 6\n",
        "- Neuronas por capa 17,5,14,3,9,1 \n",
        "- Epochs 150\n",
        "- Batch 28\n",
        "- Precision 72.27\n",
        "- Sensibilidad 73.01\n",
        "- Especificidad 71.57\n",
        "\n",
        "**Experimento 9**\n",
        "- Capas 6\n",
        "- Neuronas por capa 7,73,14,6,11,1 \n",
        "- Epochs 130\n",
        "- Batch 28\n",
        "- Precision 72.26 \n",
        "- Sensibilidad 69.18\n",
        "- Especificidad 75.19\n",
        "\n",
        "**Experimento 10**\n",
        "- Capas 5\n",
        "- Neuronas por capa 2,5,9,3,1\n",
        "- Epochs 130\n",
        "- Batch 50\n",
        "- Precision 69.76\n",
        "- Sensibilidad 69.10\n",
        "- Especificidad 70.39\n",
        "\n",
        "**Experimento 11**\n",
        "- Capas 6\n",
        "- Neuronas por capa 27,14,6,19,5,1 \n",
        "- Epochs 130\n",
        "- Batch 28\n",
        "- Precision 72.42\n",
        "- Sensibilidad 67.32\n",
        "- Especificidad 77.27\n",
        "\n",
        "**Experimento 12**\n",
        "- Capas 8\n",
        "- Neuronas por capa 40,35,17,9,4,12,3,1 \n",
        "- Epochs 300\n",
        "- Batch 50\n",
        "- Precision 72.09 \n",
        "- Sensibilidad  59.89\n",
        "- Especificidad 83.70\n",
        "\n",
        "**Experimento 13**\n",
        "tarda mucho en entrenarse\n",
        "- Capas 6\n",
        "- Neuronas por capa 10,15,8,13,5,1 \n",
        "- Epochs 300\n",
        "- Batch 5\n",
        "- Precision 72.13%\n",
        "- Sensibilidad 66.82%\n",
        "- Especificidad 77.185\n",
        "\n",
        "**Experimento 14**\n",
        "- Capas 6\n",
        "- Neuronas por capa 13,18,5,9,3,1\n",
        "- Epochs 500\n",
        "- Batch 15\n",
        "- Precision  72.14%\n",
        "- Sensibilidad 63.39%\n",
        "- Especificidad 80.45%\n",
        "\n",
        "**Experimento 15**\n",
        "- Capas 6\n",
        "- Neuronas por capa 23,18,9,15,3,1\n",
        "- Epochs 300\n",
        "- Batch 25\n",
        "- Precision 71.78%\n",
        "- Sensibilidad 58.19%\n",
        "- Especificidad 84.70%\n",
        "\n",
        "**Experimento 16**\n",
        "- Capas 6\n",
        "- Neuronas por capa 10,15,8,13,5,1\n",
        "- Epochs 150\n",
        "- Batch 28\n",
        "- Precision 71.75%\n",
        "- Sensibilidad 60.56%\n",
        "- Especificidad 82.40%\n",
        "\n",
        "\n",
        "**Experimento 17**\n",
        "- Capas 6\n",
        "- Neuronas por capa 13,18,5,9,3,1 \n",
        "- Epochs 250\n",
        "- Batch 28\n",
        "- Precision 71.32\n",
        "- Sensibilidad 75.31\n",
        "- Especificidad 67.53\n",
        "\n",
        "\n",
        "**Experimento 18**\n",
        "- Capas 6\n",
        "- Neuronas por capa 13,18,9,15,3,1 \n",
        "- Epochs 150 \n",
        "- Batch 25\n",
        "- Precision 72.17\n",
        "- Sensibilidad 63.97\n",
        "- Especificidad 79.96\n",
        "\n",
        "**Experimento 19**\n",
        "\n",
        "- Capas 6\n",
        "- Neuronas por capa 13,18,5,9,3,1 \n",
        "- Epochs 130\n",
        "- Batch 28\n",
        "- Precision 72.32\n",
        "- Sensibilidad 68.49\n",
        "- Especificidad 75.97\n",
        "\n",
        "**Experimento 20**\n",
        "\n",
        "- Capas 6\n",
        "- Neuronas por capa 10,15,8,13,5,1\n",
        "- Epochs 250\n",
        "- Batch 28\n",
        "- Precision 72.275\n",
        "- Sensibilidad 66.25%\n",
        "- Especificidad 78.00%\n",
        "\n",
        "Hasta ahora se ha elegido el modelo 8 que cuenta con métricas que se consideraron adecuadas para el tipo de problema que se esta trabajando, por lo que se realiza su carga para poder replicar su precisión, especificidad  y sensibilidad.\n"
      ]
    },
    {
      "cell_type": "code",
      "metadata": {
        "id": "41WGRx8gvzBY"
      },
      "source": [
        "# Damos los permisos para almacenar los archivos de manera temporal \n",
        "auth.authenticate_user()\n",
        "gauth = GoogleAuth()\n",
        "gauth.credentials = GoogleCredentials.get_application_default()\n",
        "drive = GoogleDrive(gauth)\n",
        "\n",
        "# importamos los archivos de Drive del modelo entrenado previamente elegido.\n",
        "downloaded = drive.CreateFile({'id':\"1d-yNqWirMTsMA-VHHgDmmWQzMkEvCdLZ\"})   # replace the id with id of file you want to access\n",
        "downloaded.GetContentFile('model.json') \n",
        "downloaded = drive.CreateFile({'id':\"1J6pDWA31mwqAKZ6Q7UHQKq0IJNeJqN9A\"})   # replace the id with id of file you want to access\n",
        "downloaded.GetContentFile('model.h5') \n"
      ],
      "execution_count": 7,
      "outputs": []
    },
    {
      "cell_type": "code",
      "metadata": {
        "id": "odmc1jdMnefF",
        "colab": {
          "base_uri": "https://localhost:8080/"
        },
        "outputId": "7b2cecf8-b7a6-4c7b-8dd9-88f0daca1123"
      },
      "source": [
        "# cargar la información para el modelo elegido\n",
        "json_file = open('model.json', 'r')\n",
        "loaded_model_json = json_file.read()\n",
        "json_file.close()\n",
        "loaded_model = model_from_json(loaded_model_json)\n",
        "# cargar pesos al nuevo modelo\n",
        "loaded_model.load_weights(\"model.h5\")\n",
        "print(\"Modelo cargado.\")\n",
        " \n",
        "# Compilar modelo cargado y listo para usar.\n",
        "loaded_model.compile(loss=\"binary_crossentropy\", optimizer=\"adam\", metrics=[\"accuracy\"])"
      ],
      "execution_count": 8,
      "outputs": [
        {
          "output_type": "stream",
          "text": [
            "Modelo cargado.\n"
          ],
          "name": "stdout"
        }
      ]
    },
    {
      "cell_type": "code",
      "metadata": {
        "id": "fE1fVzDGfaHU",
        "colab": {
          "base_uri": "https://localhost:8080/"
        },
        "outputId": "321c899b-be4d-4564-edd8-80d777e15c07"
      },
      "source": [
        "#prediccion del modelo cargado\n",
        "y_predict = loaded_model.predict_classes(X_valid)\n",
        "\n",
        "# Resultados (métricas de l modelo)\n",
        "resultado = confusion_matrix(y_valid, y_predict)\n",
        "(TN, FP, FN, TP) = resultado.ravel()\n",
        " \n",
        "acc_red = calcularAccuracy(TP, TN, FP, FN)\n",
        "sen_red = calcularSensibilidad(TP, TN, FP, FN)\n",
        "spec_red = calcularEspecificidad(TP, TN, FP, FN)\n",
        "print(\"Precision:\"+str(acc_red)+\"%\")\n",
        "print(\"Sensibilidad:\"+str(sen_red)+\"%\")\n",
        "print(\"Especificidad:\"+str(spec_red)+\"%\")"
      ],
      "execution_count": 9,
      "outputs": [
        {
          "output_type": "stream",
          "text": [
            "/usr/local/lib/python3.7/dist-packages/keras/engine/sequential.py:450: UserWarning:\n",
            "\n",
            "`model.predict_classes()` is deprecated and will be removed after 2021-01-01. Please use instead:* `np.argmax(model.predict(x), axis=-1)`,   if your model does multi-class classification   (e.g. if it uses a `softmax` last-layer activation).* `(model.predict(x) > 0.5).astype(\"int32\")`,   if your model does binary classification   (e.g. if it uses a `sigmoid` last-layer activation).\n",
            "\n"
          ],
          "name": "stderr"
        },
        {
          "output_type": "stream",
          "text": [
            "Precision:72.2777140985754%\n",
            "Sensibilidad:73.01747311827957%\n",
            "Especificidad:71.57457681251996%\n"
          ],
          "name": "stdout"
        }
      ]
    },
    {
      "cell_type": "markdown",
      "metadata": {
        "id": "j86jhx2wjTX2"
      },
      "source": [
        "# Regresión logistica"
      ]
    },
    {
      "cell_type": "code",
      "metadata": {
        "id": "g-a8PQ7DeFVv"
      },
      "source": [
        "# definimos el modelo\n",
        "reg= LogisticRegression(max_iter=45000,random_state=23)\n",
        "#conjuntar los datos preprocesados\n",
        "pipeReg=Pipeline(steps=[(\"preprocessor\",preprocessor),\n",
        "                            (\"model\",reg)])\n",
        "#Embonar el training\n",
        "pipeReg.fit(X_train,y_train)\n",
        "# Predicción\n",
        "preds= pipeReg.predict(X_valid)"
      ],
      "execution_count": 10,
      "outputs": []
    },
    {
      "cell_type": "code",
      "metadata": {
        "id": "4FxO5YW1M4jf",
        "colab": {
          "base_uri": "https://localhost:8080/"
        },
        "outputId": "554127f4-4b6c-4681-d578-20abdc980ff7"
      },
      "source": [
        "\n",
        "# Resultados (métricas de l modelo)\n",
        "resultado = confusion_matrix(y_valid, preds)\n",
        "(TN, FP, FN, TP) = resultado.ravel()\n",
        " \n",
        "acc_rl = calcularAccuracy(TP, TN, FP, FN)\n",
        "sen_rl = calcularSensibilidad(TP, TN, FP, FN)\n",
        "spec_rl = calcularEspecificidad(TP, TN, FP, FN)\n",
        "print(\"Precision:\"+str(acc_rl)+\"%\")\n",
        "print(\"Sensibilidad:\"+str(sen_rl)+\"%\")\n",
        "print(\"Especificidad:\"+str(spec_rl)+\"%\")"
      ],
      "execution_count": 11,
      "outputs": [
        {
          "output_type": "stream",
          "text": [
            "Precision:71.91747175372524%\n",
            "Sensibilidad:64.16890681003584%\n",
            "Especificidad:79.2824443734696%\n"
          ],
          "name": "stdout"
        }
      ]
    },
    {
      "cell_type": "markdown",
      "metadata": {
        "id": "G6_VTXWqOiWF"
      },
      "source": [
        "# Árboles de Decisión"
      ]
    },
    {
      "cell_type": "code",
      "metadata": {
        "id": "dxe2-E1jO9xn"
      },
      "source": [
        "arbol = treeClassifier.DecisionTreeClassifier(random_state=83)\n",
        "arbol = arbol.fit(X_train, y_train)\n",
        "\n",
        "#plt.figure(figsize = (10,10), dpi = 300)\n",
        "#treeClassifier.plot_tree(arbol,filled = True);\n",
        "#plt.show()"
      ],
      "execution_count": 12,
      "outputs": []
    },
    {
      "cell_type": "code",
      "metadata": {
        "id": "LtG67qAMRgEk",
        "colab": {
          "base_uri": "https://localhost:8080/"
        },
        "outputId": "6a3b4802-8975-422c-b8c2-ee79f0308cbd"
      },
      "source": [
        "y_pred = arbol.predict(X_valid)\n",
        "\n",
        "enfermedad = np.array(y_valid)\n",
        "predictions = np.array(y_pred)\n",
        "confusion_matrix(enfermedad, predictions)"
      ],
      "execution_count": 13,
      "outputs": [
        {
          "output_type": "execute_result",
          "data": {
            "text/plain": [
              "array([[6202, 3191],\n",
              "       [3539, 5389]])"
            ]
          },
          "metadata": {
            "tags": []
          },
          "execution_count": 13
        }
      ]
    },
    {
      "cell_type": "code",
      "metadata": {
        "id": "oaflsQ5tSECI",
        "colab": {
          "base_uri": "https://localhost:8080/"
        },
        "outputId": "d25aa734-1007-4333-d96b-950fff222214"
      },
      "source": [
        "resultado = confusion_matrix(enfermedad, predictions)\n",
        "\n",
        "(TN, FP, FN, TP) = resultado.ravel()\n",
        "print(\"True positives: \"+str(TP))\n",
        "print(\"True negatives: \"+str(TN))\n",
        "print(\"False positives: \"+str(FP))\n",
        "print(\"False negative: \"+str(FN)+\"\\n\")\n",
        " \n",
        "acc_ar = calcularAccuracy(TP, TN, FP, FN)\n",
        "sen_ar = calcularSensibilidad(TP, TN, FP, FN)\n",
        "spec_ar = calcularEspecificidad(TP, TN, FP, FN)\n",
        "print(\"Precision:\"+str(acc_ar)+\"%\")\n",
        "print(\"Sensibilidad:\"+str(sen_ar)+\"%\")\n",
        "print(\"Especificidad:\"+str(spec_ar)+\"%\")"
      ],
      "execution_count": 14,
      "outputs": [
        {
          "output_type": "stream",
          "text": [
            "True positives: 5389\n",
            "True negatives: 6202\n",
            "False positives: 3191\n",
            "False negative: 3539\n",
            "\n",
            "Precision:63.26619725997489%\n",
            "Sensibilidad:60.36066308243727%\n",
            "Especificidad:66.02789311189183%\n"
          ],
          "name": "stdout"
        }
      ]
    },
    {
      "cell_type": "code",
      "metadata": {
        "id": "0xOFCDpSVke3",
        "colab": {
          "base_uri": "https://localhost:8080/"
        },
        "outputId": "bb520cbf-d50d-4bd1-c031-8add0ecceb9b"
      },
      "source": [
        "score= mean_absolute_error(y_valid,predictions)\n",
        "print(\"MAE:  \",score,\"\\n\\n\")"
      ],
      "execution_count": 15,
      "outputs": [
        {
          "output_type": "stream",
          "text": [
            "MAE:   0.36733802740025107 \n",
            "\n",
            "\n"
          ],
          "name": "stdout"
        }
      ]
    },
    {
      "cell_type": "markdown",
      "metadata": {
        "id": "IsDkAVA8O1Z0"
      },
      "source": [
        "# Random Forest"
      ]
    },
    {
      "cell_type": "code",
      "metadata": {
        "id": "fbezNHS7UyfL",
        "colab": {
          "base_uri": "https://localhost:8080/"
        },
        "outputId": "c13dcef2-0df7-4933-cdc1-feb423f2cf1b"
      },
      "source": [
        "bosque = RandomForestRegressor(n_estimators=80, random_state=1)\n",
        "bosque.fit(X_train,y_train)"
      ],
      "execution_count": 16,
      "outputs": [
        {
          "output_type": "execute_result",
          "data": {
            "text/plain": [
              "RandomForestRegressor(bootstrap=True, ccp_alpha=0.0, criterion='mse',\n",
              "                      max_depth=None, max_features='auto', max_leaf_nodes=None,\n",
              "                      max_samples=None, min_impurity_decrease=0.0,\n",
              "                      min_impurity_split=None, min_samples_leaf=1,\n",
              "                      min_samples_split=2, min_weight_fraction_leaf=0.0,\n",
              "                      n_estimators=80, n_jobs=None, oob_score=False,\n",
              "                      random_state=1, verbose=0, warm_start=False)"
            ]
          },
          "metadata": {
            "tags": []
          },
          "execution_count": 16
        }
      ]
    },
    {
      "cell_type": "code",
      "metadata": {
        "id": "ygKHLSoEVFej"
      },
      "source": [
        "preds= bosque.predict(X_valid)"
      ],
      "execution_count": 17,
      "outputs": []
    },
    {
      "cell_type": "code",
      "metadata": {
        "id": "LMMyfBIeVUEv",
        "colab": {
          "base_uri": "https://localhost:8080/"
        },
        "outputId": "03bba370-98c1-4706-8668-bd9e71782d4d"
      },
      "source": [
        "score= mean_absolute_error(y_valid,preds)\n",
        "print(\"MAE:  \",score,\"\\n\\n\")"
      ],
      "execution_count": 18,
      "outputs": [
        {
          "output_type": "stream",
          "text": [
            "MAE:   0.37569073890913635 \n",
            "\n",
            "\n"
          ],
          "name": "stdout"
        }
      ]
    },
    {
      "cell_type": "markdown",
      "metadata": {
        "id": "hDmptPyJZBbi"
      },
      "source": [
        "# COMPARACIÓN DE MODELOS"
      ]
    },
    {
      "cell_type": "code",
      "metadata": {
        "id": "ohIWTmDgZE_C",
        "colab": {
          "base_uri": "https://localhost:8080/",
          "height": 584
        },
        "outputId": "233efcb6-50ff-4c38-c9da-7217ac18514d"
      },
      "source": [
        "#COMPARAMOS LA PRECISION DE NUESTROS MODELOS A TRAVÉS DE UN GRÁFICO\n",
        "\n",
        "# Creamos la lista de los modelos\n",
        "models = [reg,arbol]\n",
        "\n",
        "# inicia variables vacía para el loop\n",
        "train_accuracy = []\n",
        "test_accuracy = []\n",
        "\n",
        "# Genera el calulo de tu medida a elegir\n",
        "\n",
        "for i in models:\n",
        "    y_pred_test = i.predict(X_valid)\n",
        "    accuracy_test = accuracy_score(y_valid,y_pred_test)\n",
        "    test_accuracy.append(accuracy_test)\n",
        "\n",
        "# Debido a que la predicción de la red se realiza con ayuda de la función predict_classes\n",
        "# se agrega la precisión de manera individual\n",
        "\n",
        "test_accuracy.append(acc_red/100)\n",
        "\n",
        "#Definimos un estilo oscuro para nuestros gráficos\n",
        "sns.set_style(\"dark\")\n",
        "plt.style.use(\"dark_background\")\n",
        "\n",
        "# Grafica el accuracy\n",
        "colors=sns.color_palette(\"Purples\",3)\n",
        "plt.figure(figsize=(10,8))\n",
        "plt.bar([ 'REGRESIÓN LOGISTICA', 'ÁRBOL','RED NEURONAL'], test_accuracy,color=colors)\n",
        "plt.title('PRECISIÓN DE LOS MODELOS', fontsize=18, color='w', weight='bold')\n",
        "plt.xlabel('Modelos', fontsize=18, color='w')\n",
        "plt.ylabel('Nivel de precisión', fontsize=18, color='w')\n",
        "plt.tight_layout()\n",
        "plt.show()"
      ],
      "execution_count": 22,
      "outputs": [
        {
          "output_type": "display_data",
          "data": {
            "image/png": "[encoded data removed]",
            "text/plain": [
              "<Figure size 720x576 with 1 Axes>"
            ]
          },
          "metadata": {
            "tags": []
          }
        }
      ]
    },
    {
      "cell_type": "code",
      "metadata": {
        "colab": {
          "base_uri": "https://localhost:8080/",
          "height": 584
        },
        "id": "GTdKjT-gNVeI",
        "outputId": "a577f53b-becd-4791-da63-160054e22cc2"
      },
      "source": [
        "#COMPARAMOS LA SENSIBILIDAD DE NUESTROS MODELOS A TRAVÉS DE UN GRÁFICO\n",
        "\n",
        "sensibilidad=[sen_rl/100,sen_ar/100,sen_red/100]\n",
        "\n",
        "# Grafica sensibilidad\n",
        "colors=sns.color_palette(\"Purples\",3)\n",
        "plt.figure(figsize=(10,8))\n",
        "plt.bar([ 'REGRESIÓN LOGISTICA', 'ÁRBOL','RED NEURONAL'], sensibilidad,color=colors)\n",
        "plt.title('SENSIBILIDAD DE LOS MODELOS', fontsize=18, color='w', weight='bold')\n",
        "plt.xlabel('Modelos', fontsize=18, color='w')\n",
        "plt.ylabel('Nivel de sensibilidad', fontsize=18, color='w')\n",
        "plt.tight_layout()\n",
        "plt.show()"
      ],
      "execution_count": 23,
      "outputs": [
        {
          "output_type": "display_data",
          "data": {
            "image/png": "[encoded data removed]",
            "text/plain": [
              "<Figure size 720x576 with 1 Axes>"
            ]
          },
          "metadata": {
            "tags": []
          }
        }
      ]
    },
    {
      "cell_type": "code",
      "metadata": {
        "colab": {
          "base_uri": "https://localhost:8080/",
          "height": 584
        },
        "id": "FVxndRYuUkYd",
        "outputId": "e347c4ab-74b3-4054-f00b-4ec096801bff"
      },
      "source": [
        "#COMPARAMOS LA ESPECIFICIDAD DE NUESTROS MODELOS A TRAVÉS DE UN GRÁFICO\n",
        "\n",
        "especificidad=[spec_rl/100,spec_ar/100,spec_red/100]\n",
        "\n",
        "# Grafica sensibilidad\n",
        "colors=sns.color_palette(\"Purples\",3)\n",
        "plt.figure(figsize=(10,8))\n",
        "plt.bar([ 'REGRESIÓN LOGISTICA', 'ÁRBOL','RED NEURONAL'], especificidad,color=colors)\n",
        "plt.title('ESPECIFICIDAD DE LOS MODELOS', fontsize=18, color='w', weight='bold')\n",
        "plt.xlabel('Modelos', fontsize=18, color='w')\n",
        "plt.ylabel('Nivel de especificidad', fontsize=18, color='w')\n",
        "plt.tight_layout()\n",
        "plt.show()"
      ],
      "execution_count": 24,
      "outputs": [
        {
          "output_type": "display_data",
          "data": {
            "image/png": "[encoded data removed]",
            "text/plain": [
              "<Figure size 720x576 with 1 Axes>"
            ]
          },
          "metadata": {
            "tags": []
          }
        }
      ]
    }
  ]
}